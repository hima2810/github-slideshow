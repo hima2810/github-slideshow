{
  "nbformat": 4,
  "nbformat_minor": 0,
  "metadata": {
    "accelerator": "GPU",
    "colab": {
      "name": "l01c01_introduction_to_colab_and_python.ipynb",
      "provenance": [],
      "collapsed_sections": [],
      "include_colab_link": true
    },
    "kernelspec": {
      "display_name": "Python 3",
      "name": "python3"
    }
  },
  "cells": [
    {
      "cell_type": "markdown",
      "metadata": {
        "id": "view-in-github",
        "colab_type": "text"
      },
      "source": [
        "<a href=\"https://colab.research.google.com/github/hima2810/github-slideshow/blob/master/courses/udacity_intro_to_tensorflow_for_deep_learning/l01c01_introduction_to_colab_and_python.ipynb\" target=\"_parent\"><img src=\"https://colab.research.google.com/assets/colab-badge.svg\" alt=\"Open In Colab\"/></a>"
      ]
    },
    {
      "cell_type": "markdown",
      "metadata": {
        "id": "Za8-Nr5k11fh"
      },
      "source": [
        "##### Copyright 2018 The TensorFlow Authors."
      ]
    },
    {
      "cell_type": "code",
      "metadata": {
        "colab": {
          "base_uri": "https://localhost:8080/"
        },
        "id": "7xo50WE45BNb",
        "outputId": "14a0acef-0b1b-494d-a803-b3851c4a07c8"
      },
      "source": [
        "from google.colab import drive\n",
        "drive.mount('/content/drive')"
      ],
      "execution_count": 35,
      "outputs": [
        {
          "output_type": "stream",
          "text": [
            "Drive already mounted at /content/drive; to attempt to forcibly remount, call drive.mount(\"/content/drive\", force_remount=True).\n"
          ],
          "name": "stdout"
        }
      ]
    },
    {
      "cell_type": "code",
      "metadata": {
        "id": "P_xl_7i8jq4s"
      },
      "source": [
        "import tensorflow as tf\n",
        "import numpy as np"
      ],
      "execution_count": 36,
      "outputs": []
    },
    {
      "cell_type": "code",
      "metadata": {
        "id": "34mtrc-aj3ve"
      },
      "source": [
        "width=224\n",
        "height=224\n",
        "batch_size=32\n",
        "data_dir=r\"/content/drive\""
      ],
      "execution_count": 37,
      "outputs": []
    },
    {
      "cell_type": "code",
      "metadata": {
        "colab": {
          "base_uri": "https://localhost:8080/"
        },
        "id": "LfjJ4xiEkXAe",
        "outputId": "30ca25ca-32a8-4e38-f3f7-b0380d4afad1"
      },
      "source": [
        "training=tf.keras.preprocessing.image_dataset_from_directory(\n",
        "    data_dir,\n",
        "    validation_split=0.3,\n",
        "    subset='training',\n",
        "    seed=123,\n",
        "    image_size=(height,width),\n",
        "    batch_size=batch_size\n",
        ")"
      ],
      "execution_count": 38,
      "outputs": [
        {
          "output_type": "stream",
          "text": [
            "Found 194 files belonging to 4 classes.\n",
            "Using 136 files for training.\n"
          ],
          "name": "stdout"
        }
      ]
    },
    {
      "cell_type": "code",
      "metadata": {
        "colab": {
          "base_uri": "https://localhost:8080/"
        },
        "id": "XcOJcZuxlDuq",
        "outputId": "8438ba58-3568-472a-e125-91980c449a7d"
      },
      "source": [
        "validation=tf.keras.preprocessing.image_dataset_from_directory(\n",
        "    data_dir,\n",
        "    validation_split=0.3,\n",
        "    subset='validation',\n",
        "    seed=123,\n",
        "    image_size=(height,width),\n",
        "    batch_size=batch_size\n",
        ")"
      ],
      "execution_count": 39,
      "outputs": [
        {
          "output_type": "stream",
          "text": [
            "Found 194 files belonging to 4 classes.\n",
            "Using 58 files for validation.\n"
          ],
          "name": "stdout"
        }
      ]
    },
    {
      "cell_type": "code",
      "metadata": {
        "colab": {
          "base_uri": "https://localhost:8080/"
        },
        "id": "zEPfqplyloWq",
        "outputId": "088764f0-cdaf-4c62-eb1b-a4cb457095f3"
      },
      "source": [
        "classes=training.class_names\n",
        "classes"
      ],
      "execution_count": 40,
      "outputs": [
        {
          "output_type": "execute_result",
          "data": {
            "text/plain": [
              "['.Trash-0', '.file-revisions-by-id', '.shortcut-targets-by-id', 'MyDrive']"
            ]
          },
          "metadata": {
            "tags": []
          },
          "execution_count": 40
        }
      ]
    },
    {
      "cell_type": "code",
      "metadata": {
        "colab": {
          "base_uri": "https://localhost:8080/"
        },
        "id": "ltudsM7al8we",
        "outputId": "945d1b1e-3b4a-4600-9013-5362804e716a"
      },
      "source": [
        "training"
      ],
      "execution_count": 41,
      "outputs": [
        {
          "output_type": "execute_result",
          "data": {
            "text/plain": [
              "<BatchDataset shapes: ((None, 224, 224, 3), (None,)), types: (tf.float32, tf.int32)>"
            ]
          },
          "metadata": {
            "tags": []
          },
          "execution_count": 41
        }
      ]
    },
    {
      "cell_type": "code",
      "metadata": {
        "colab": {
          "base_uri": "https://localhost:8080/",
          "height": 281
        },
        "id": "XIf0-vl0l_hP",
        "outputId": "156891a1-276d-48be-eaef-efadecc5bd18"
      },
      "source": [
        "import matplotlib.pyplot as plt\n",
        "for images, labels in training.take(1):\n",
        "  plt.imshow(images[1].numpy().astype('uint8'))\n",
        "  plt.title(classes[labels[1]])"
      ],
      "execution_count": 42,
      "outputs": [
        {
          "output_type": "display_data",
          "data": {
            "image/png": "[encoded data removed]",
            "text/plain": [
              "<Figure size 432x288 with 1 Axes>"
            ]
          },
          "metadata": {
            "tags": [],
            "needs_background": "light"
          }
        }
      ]
    },
    {
      "cell_type": "code",
      "metadata": {
        "id": "6yr9PyS5mkvb"
      },
      "source": [
        "from tensorflow.keras.applications import MobileNetV2"
      ],
      "execution_count": 43,
      "outputs": []
    },
    {
      "cell_type": "code",
      "metadata": {
        "id": "8ptqnw_Om7QW"
      },
      "source": [
        "model= MobileNetV2(weights='imagenet')"
      ],
      "execution_count": 44,
      "outputs": []
    },
    {
      "cell_type": "code",
      "metadata": {
        "id": "YsSv7on5nLgB"
      },
      "source": [
        "model.compile(optimizer='adam',\n",
        "              loss=tf.keras.losses.SparseCategoricalCrossentropy(from_logits=True),\n",
        "              metrics=['accuracy'])"
      ],
      "execution_count": 45,
      "outputs": []
    },
    {
      "cell_type": "code",
      "metadata": {
        "colab": {
          "base_uri": "https://localhost:8080/"
        },
        "id": "CmwiOoSvnvEG",
        "outputId": "f8ae8518-d8a3-499a-8258-65bf32819d9b"
      },
      "source": [
        "model.summary()"
      ],
      "execution_count": 46,
      "outputs": [
        {
          "output_type": "stream",
          "text": [
            "Model: \"mobilenetv2_1.00_224\"\n",
            "__________________________________________________________________________________________________\n",
            "Layer (type)                    Output Shape         Param #     Connected to                     \n",
            "==================================================================================================\n",
            "input_2 (InputLayer)            [(None, 224, 224, 3) 0                                            \n",
            "__________________________________________________________________________________________________\n",
            "Conv1 (Conv2D)                  (None, 112, 112, 32) 864         input_2[0][0]                    \n",
            "__________________________________________________________________________________________________\n",
            "bn_Conv1 (BatchNormalization)   (None, 112, 112, 32) 128         Conv1[0][0]                      \n",
            "__________________________________________________________________________________________________\n",
            "Conv1_relu (ReLU)               (None, 112, 112, 32) 0           bn_Conv1[0][0]                   \n",
            "__________________________________________________________________________________________________\n",
            "expanded_conv_depthwise (Depthw (None, 112, 112, 32) 288         Conv1_relu[0][0]                 \n",
            "__________________________________________________________________________________________________\n",
            "expanded_conv_depthwise_BN (Bat (None, 112, 112, 32) 128         expanded_conv_depthwise[0][0]    \n",
            "__________________________________________________________________________________________________\n",
            "expanded_conv_depthwise_relu (R (None, 112, 112, 32) 0           expanded_conv_depthwise_BN[0][0] \n",
            "__________________________________________________________________________________________________\n",
            "expanded_conv_project (Conv2D)  (None, 112, 112, 16) 512         expanded_conv_depthwise_relu[0][0\n",
            "__________________________________________________________________________________________________\n",
            "expanded_conv_project_BN (Batch (None, 112, 112, 16) 64          expanded_conv_project[0][0]      \n",
            "__________________________________________________________________________________________________\n",
            "block_1_expand (Conv2D)         (None, 112, 112, 96) 1536        expanded_conv_project_BN[0][0]   \n",
            "__________________________________________________________________________________________________\n",
            "block_1_expand_BN (BatchNormali (None, 112, 112, 96) 384         block_1_expand[0][0]             \n",
            "__________________________________________________________________________________________________\n",
            "block_1_expand_relu (ReLU)      (None, 112, 112, 96) 0           block_1_expand_BN[0][0]          \n",
            "__________________________________________________________________________________________________\n",
            "block_1_pad (ZeroPadding2D)     (None, 113, 113, 96) 0           block_1_expand_relu[0][0]        \n",
            "__________________________________________________________________________________________________\n",
            "block_1_depthwise (DepthwiseCon (None, 56, 56, 96)   864         block_1_pad[0][0]                \n",
            "__________________________________________________________________________________________________\n",
            "block_1_depthwise_BN (BatchNorm (None, 56, 56, 96)   384         block_1_depthwise[0][0]          \n",
            "__________________________________________________________________________________________________\n",
            "block_1_depthwise_relu (ReLU)   (None, 56, 56, 96)   0           block_1_depthwise_BN[0][0]       \n",
            "__________________________________________________________________________________________________\n",
            "block_1_project (Conv2D)        (None, 56, 56, 24)   2304        block_1_depthwise_relu[0][0]     \n",
            "__________________________________________________________________________________________________\n",
            "block_1_project_BN (BatchNormal (None, 56, 56, 24)   96          block_1_project[0][0]            \n",
            "__________________________________________________________________________________________________\n",
            "block_2_expand (Conv2D)         (None, 56, 56, 144)  3456        block_1_project_BN[0][0]         \n",
            "__________________________________________________________________________________________________\n",
            "block_2_expand_BN (BatchNormali (None, 56, 56, 144)  576         block_2_expand[0][0]             \n",
            "__________________________________________________________________________________________________\n",
            "block_2_expand_relu (ReLU)      (None, 56, 56, 144)  0           block_2_expand_BN[0][0]          \n",
            "__________________________________________________________________________________________________\n",
            "block_2_depthwise (DepthwiseCon (None, 56, 56, 144)  1296        block_2_expand_relu[0][0]        \n",
            "__________________________________________________________________________________________________\n",
            "block_2_depthwise_BN (BatchNorm (None, 56, 56, 144)  576         block_2_depthwise[0][0]          \n",
            "__________________________________________________________________________________________________\n",
            "block_2_depthwise_relu (ReLU)   (None, 56, 56, 144)  0           block_2_depthwise_BN[0][0]       \n",
            "__________________________________________________________________________________________________\n",
            "block_2_project (Conv2D)        (None, 56, 56, 24)   3456        block_2_depthwise_relu[0][0]     \n",
            "__________________________________________________________________________________________________\n",
            "block_2_project_BN (BatchNormal (None, 56, 56, 24)   96          block_2_project[0][0]            \n",
            "__________________________________________________________________________________________________\n",
            "block_2_add (Add)               (None, 56, 56, 24)   0           block_1_project_BN[0][0]         \n",
            "                                                                 block_2_project_BN[0][0]         \n",
            "__________________________________________________________________________________________________\n",
            "block_3_expand (Conv2D)         (None, 56, 56, 144)  3456        block_2_add[0][0]                \n",
            "__________________________________________________________________________________________________\n",
            "block_3_expand_BN (BatchNormali (None, 56, 56, 144)  576         block_3_expand[0][0]             \n",
            "__________________________________________________________________________________________________\n",
            "block_3_expand_relu (ReLU)      (None, 56, 56, 144)  0           block_3_expand_BN[0][0]          \n",
            "__________________________________________________________________________________________________\n",
            "block_3_pad (ZeroPadding2D)     (None, 57, 57, 144)  0           block_3_expand_relu[0][0]        \n",
            "__________________________________________________________________________________________________\n",
            "block_3_depthwise (DepthwiseCon (None, 28, 28, 144)  1296        block_3_pad[0][0]                \n",
            "__________________________________________________________________________________________________\n",
            "block_3_depthwise_BN (BatchNorm (None, 28, 28, 144)  576         block_3_depthwise[0][0]          \n",
            "__________________________________________________________________________________________________\n",
            "block_3_depthwise_relu (ReLU)   (None, 28, 28, 144)  0           block_3_depthwise_BN[0][0]       \n",
            "__________________________________________________________________________________________________\n",
            "block_3_project (Conv2D)        (None, 28, 28, 32)   4608        block_3_depthwise_relu[0][0]     \n",
            "__________________________________________________________________________________________________\n",
            "block_3_project_BN (BatchNormal (None, 28, 28, 32)   128         block_3_project[0][0]            \n",
            "__________________________________________________________________________________________________\n",
            "block_4_expand (Conv2D)         (None, 28, 28, 192)  6144        block_3_project_BN[0][0]         \n",
            "__________________________________________________________________________________________________\n",
            "block_4_expand_BN (BatchNormali (None, 28, 28, 192)  768         block_4_expand[0][0]             \n",
            "__________________________________________________________________________________________________\n",
            "block_4_expand_relu (ReLU)      (None, 28, 28, 192)  0           block_4_expand_BN[0][0]          \n",
            "__________________________________________________________________________________________________\n",
            "block_4_depthwise (DepthwiseCon (None, 28, 28, 192)  1728        block_4_expand_relu[0][0]        \n",
            "__________________________________________________________________________________________________\n",
            "block_4_depthwise_BN (BatchNorm (None, 28, 28, 192)  768         block_4_depthwise[0][0]          \n",
            "__________________________________________________________________________________________________\n",
            "block_4_depthwise_relu (ReLU)   (None, 28, 28, 192)  0           block_4_depthwise_BN[0][0]       \n",
            "__________________________________________________________________________________________________\n",
            "block_4_project (Conv2D)        (None, 28, 28, 32)   6144        block_4_depthwise_relu[0][0]     \n",
            "__________________________________________________________________________________________________\n",
            "block_4_project_BN (BatchNormal (None, 28, 28, 32)   128         block_4_project[0][0]            \n",
            "__________________________________________________________________________________________________\n",
            "block_4_add (Add)               (None, 28, 28, 32)   0           block_3_project_BN[0][0]         \n",
            "                                                                 block_4_project_BN[0][0]         \n",
            "__________________________________________________________________________________________________\n",
            "block_5_expand (Conv2D)         (None, 28, 28, 192)  6144        block_4_add[0][0]                \n",
            "__________________________________________________________________________________________________\n",
            "block_5_expand_BN (BatchNormali (None, 28, 28, 192)  768         block_5_expand[0][0]             \n",
            "__________________________________________________________________________________________________\n",
            "block_5_expand_relu (ReLU)      (None, 28, 28, 192)  0           block_5_expand_BN[0][0]          \n",
            "__________________________________________________________________________________________________\n",
            "block_5_depthwise (DepthwiseCon (None, 28, 28, 192)  1728        block_5_expand_relu[0][0]        \n",
            "__________________________________________________________________________________________________\n",
            "block_5_depthwise_BN (BatchNorm (None, 28, 28, 192)  768         block_5_depthwise[0][0]          \n",
            "__________________________________________________________________________________________________\n",
            "block_5_depthwise_relu (ReLU)   (None, 28, 28, 192)  0           block_5_depthwise_BN[0][0]       \n",
            "__________________________________________________________________________________________________\n",
            "block_5_project (Conv2D)        (None, 28, 28, 32)   6144        block_5_depthwise_relu[0][0]     \n",
            "__________________________________________________________________________________________________\n",
            "block_5_project_BN (BatchNormal (None, 28, 28, 32)   128         block_5_project[0][0]            \n",
            "__________________________________________________________________________________________________\n",
            "block_5_add (Add)               (None, 28, 28, 32)   0           block_4_add[0][0]                \n",
            "                                                                 block_5_project_BN[0][0]         \n",
            "__________________________________________________________________________________________________\n",
            "block_6_expand (Conv2D)         (None, 28, 28, 192)  6144        block_5_add[0][0]                \n",
            "__________________________________________________________________________________________________\n",
            "block_6_expand_BN (BatchNormali (None, 28, 28, 192)  768         block_6_expand[0][0]             \n",
            "__________________________________________________________________________________________________\n",
            "block_6_expand_relu (ReLU)      (None, 28, 28, 192)  0           block_6_expand_BN[0][0]          \n",
            "__________________________________________________________________________________________________\n",
            "block_6_pad (ZeroPadding2D)     (None, 29, 29, 192)  0           block_6_expand_relu[0][0]        \n",
            "__________________________________________________________________________________________________\n",
            "block_6_depthwise (DepthwiseCon (None, 14, 14, 192)  1728        block_6_pad[0][0]                \n",
            "__________________________________________________________________________________________________\n",
            "block_6_depthwise_BN (BatchNorm (None, 14, 14, 192)  768         block_6_depthwise[0][0]          \n",
            "__________________________________________________________________________________________________\n",
            "block_6_depthwise_relu (ReLU)   (None, 14, 14, 192)  0           block_6_depthwise_BN[0][0]       \n",
            "__________________________________________________________________________________________________\n",
            "block_6_project (Conv2D)        (None, 14, 14, 64)   12288       block_6_depthwise_relu[0][0]     \n",
            "__________________________________________________________________________________________________\n",
            "block_6_project_BN (BatchNormal (None, 14, 14, 64)   256         block_6_project[0][0]            \n",
            "__________________________________________________________________________________________________\n",
            "block_7_expand (Conv2D)         (None, 14, 14, 384)  24576       block_6_project_BN[0][0]         \n",
            "__________________________________________________________________________________________________\n",
            "block_7_expand_BN (BatchNormali (None, 14, 14, 384)  1536        block_7_expand[0][0]             \n",
            "__________________________________________________________________________________________________\n",
            "block_7_expand_relu (ReLU)      (None, 14, 14, 384)  0           block_7_expand_BN[0][0]          \n",
            "__________________________________________________________________________________________________\n",
            "block_7_depthwise (DepthwiseCon (None, 14, 14, 384)  3456        block_7_expand_relu[0][0]        \n",
            "__________________________________________________________________________________________________\n",
            "block_7_depthwise_BN (BatchNorm (None, 14, 14, 384)  1536        block_7_depthwise[0][0]          \n",
            "__________________________________________________________________________________________________\n",
            "block_7_depthwise_relu (ReLU)   (None, 14, 14, 384)  0           block_7_depthwise_BN[0][0]       \n",
            "__________________________________________________________________________________________________\n",
            "block_7_project (Conv2D)        (None, 14, 14, 64)   24576       block_7_depthwise_relu[0][0]     \n",
            "__________________________________________________________________________________________________\n",
            "block_7_project_BN (BatchNormal (None, 14, 14, 64)   256         block_7_project[0][0]            \n",
            "__________________________________________________________________________________________________\n",
            "block_7_add (Add)               (None, 14, 14, 64)   0           block_6_project_BN[0][0]         \n",
            "                                                                 block_7_project_BN[0][0]         \n",
            "__________________________________________________________________________________________________\n",
            "block_8_expand (Conv2D)         (None, 14, 14, 384)  24576       block_7_add[0][0]                \n",
            "__________________________________________________________________________________________________\n",
            "block_8_expand_BN (BatchNormali (None, 14, 14, 384)  1536        block_8_expand[0][0]             \n",
            "__________________________________________________________________________________________________\n",
            "block_8_expand_relu (ReLU)      (None, 14, 14, 384)  0           block_8_expand_BN[0][0]          \n",
            "__________________________________________________________________________________________________\n",
            "block_8_depthwise (DepthwiseCon (None, 14, 14, 384)  3456        block_8_expand_relu[0][0]        \n",
            "__________________________________________________________________________________________________\n",
            "block_8_depthwise_BN (BatchNorm (None, 14, 14, 384)  1536        block_8_depthwise[0][0]          \n",
            "__________________________________________________________________________________________________\n",
            "block_8_depthwise_relu (ReLU)   (None, 14, 14, 384)  0           block_8_depthwise_BN[0][0]       \n",
            "__________________________________________________________________________________________________\n",
            "block_8_project (Conv2D)        (None, 14, 14, 64)   24576       block_8_depthwise_relu[0][0]     \n",
            "__________________________________________________________________________________________________\n",
            "block_8_project_BN (BatchNormal (None, 14, 14, 64)   256         block_8_project[0][0]            \n",
            "__________________________________________________________________________________________________\n",
            "block_8_add (Add)               (None, 14, 14, 64)   0           block_7_add[0][0]                \n",
            "                                                                 block_8_project_BN[0][0]         \n",
            "__________________________________________________________________________________________________\n",
            "block_9_expand (Conv2D)         (None, 14, 14, 384)  24576       block_8_add[0][0]                \n",
            "__________________________________________________________________________________________________\n",
            "block_9_expand_BN (BatchNormali (None, 14, 14, 384)  1536        block_9_expand[0][0]             \n",
            "__________________________________________________________________________________________________\n",
            "block_9_expand_relu (ReLU)      (None, 14, 14, 384)  0           block_9_expand_BN[0][0]          \n",
            "__________________________________________________________________________________________________\n",
            "block_9_depthwise (DepthwiseCon (None, 14, 14, 384)  3456        block_9_expand_relu[0][0]        \n",
            "__________________________________________________________________________________________________\n",
            "block_9_depthwise_BN (BatchNorm (None, 14, 14, 384)  1536        block_9_depthwise[0][0]          \n",
            "__________________________________________________________________________________________________\n",
            "block_9_depthwise_relu (ReLU)   (None, 14, 14, 384)  0           block_9_depthwise_BN[0][0]       \n",
            "__________________________________________________________________________________________________\n",
            "block_9_project (Conv2D)        (None, 14, 14, 64)   24576       block_9_depthwise_relu[0][0]     \n",
            "__________________________________________________________________________________________________\n",
            "block_9_project_BN (BatchNormal (None, 14, 14, 64)   256         block_9_project[0][0]            \n",
            "__________________________________________________________________________________________________\n",
            "block_9_add (Add)               (None, 14, 14, 64)   0           block_8_add[0][0]                \n",
            "                                                                 block_9_project_BN[0][0]         \n",
            "__________________________________________________________________________________________________\n",
            "block_10_expand (Conv2D)        (None, 14, 14, 384)  24576       block_9_add[0][0]                \n",
            "__________________________________________________________________________________________________\n",
            "block_10_expand_BN (BatchNormal (None, 14, 14, 384)  1536        block_10_expand[0][0]            \n",
            "__________________________________________________________________________________________________\n",
            "block_10_expand_relu (ReLU)     (None, 14, 14, 384)  0           block_10_expand_BN[0][0]         \n",
            "__________________________________________________________________________________________________\n",
            "block_10_depthwise (DepthwiseCo (None, 14, 14, 384)  3456        block_10_expand_relu[0][0]       \n",
            "__________________________________________________________________________________________________\n",
            "block_10_depthwise_BN (BatchNor (None, 14, 14, 384)  1536        block_10_depthwise[0][0]         \n",
            "__________________________________________________________________________________________________\n",
            "block_10_depthwise_relu (ReLU)  (None, 14, 14, 384)  0           block_10_depthwise_BN[0][0]      \n",
            "__________________________________________________________________________________________________\n",
            "block_10_project (Conv2D)       (None, 14, 14, 96)   36864       block_10_depthwise_relu[0][0]    \n",
            "__________________________________________________________________________________________________\n",
            "block_10_project_BN (BatchNorma (None, 14, 14, 96)   384         block_10_project[0][0]           \n",
            "__________________________________________________________________________________________________\n",
            "block_11_expand (Conv2D)        (None, 14, 14, 576)  55296       block_10_project_BN[0][0]        \n",
            "__________________________________________________________________________________________________\n",
            "block_11_expand_BN (BatchNormal (None, 14, 14, 576)  2304        block_11_expand[0][0]            \n",
            "__________________________________________________________________________________________________\n",
            "block_11_expand_relu (ReLU)     (None, 14, 14, 576)  0           block_11_expand_BN[0][0]         \n",
            "__________________________________________________________________________________________________\n",
            "block_11_depthwise (DepthwiseCo (None, 14, 14, 576)  5184        block_11_expand_relu[0][0]       \n",
            "__________________________________________________________________________________________________\n",
            "block_11_depthwise_BN (BatchNor (None, 14, 14, 576)  2304        block_11_depthwise[0][0]         \n",
            "__________________________________________________________________________________________________\n",
            "block_11_depthwise_relu (ReLU)  (None, 14, 14, 576)  0           block_11_depthwise_BN[0][0]      \n",
            "__________________________________________________________________________________________________\n",
            "block_11_project (Conv2D)       (None, 14, 14, 96)   55296       block_11_depthwise_relu[0][0]    \n",
            "__________________________________________________________________________________________________\n",
            "block_11_project_BN (BatchNorma (None, 14, 14, 96)   384         block_11_project[0][0]           \n",
            "__________________________________________________________________________________________________\n",
            "block_11_add (Add)              (None, 14, 14, 96)   0           block_10_project_BN[0][0]        \n",
            "                                                                 block_11_project_BN[0][0]        \n",
            "__________________________________________________________________________________________________\n",
            "block_12_expand (Conv2D)        (None, 14, 14, 576)  55296       block_11_add[0][0]               \n",
            "__________________________________________________________________________________________________\n",
            "block_12_expand_BN (BatchNormal (None, 14, 14, 576)  2304        block_12_expand[0][0]            \n",
            "__________________________________________________________________________________________________\n",
            "block_12_expand_relu (ReLU)     (None, 14, 14, 576)  0           block_12_expand_BN[0][0]         \n",
            "__________________________________________________________________________________________________\n",
            "block_12_depthwise (DepthwiseCo (None, 14, 14, 576)  5184        block_12_expand_relu[0][0]       \n",
            "__________________________________________________________________________________________________\n",
            "block_12_depthwise_BN (BatchNor (None, 14, 14, 576)  2304        block_12_depthwise[0][0]         \n",
            "__________________________________________________________________________________________________\n",
            "block_12_depthwise_relu (ReLU)  (None, 14, 14, 576)  0           block_12_depthwise_BN[0][0]      \n",
            "__________________________________________________________________________________________________\n",
            "block_12_project (Conv2D)       (None, 14, 14, 96)   55296       block_12_depthwise_relu[0][0]    \n",
            "__________________________________________________________________________________________________\n",
            "block_12_project_BN (BatchNorma (None, 14, 14, 96)   384         block_12_project[0][0]           \n",
            "__________________________________________________________________________________________________\n",
            "block_12_add (Add)              (None, 14, 14, 96)   0           block_11_add[0][0]               \n",
            "                                                                 block_12_project_BN[0][0]        \n",
            "__________________________________________________________________________________________________\n",
            "block_13_expand (Conv2D)        (None, 14, 14, 576)  55296       block_12_add[0][0]               \n",
            "__________________________________________________________________________________________________\n",
            "block_13_expand_BN (BatchNormal (None, 14, 14, 576)  2304        block_13_expand[0][0]            \n",
            "__________________________________________________________________________________________________\n",
            "block_13_expand_relu (ReLU)     (None, 14, 14, 576)  0           block_13_expand_BN[0][0]         \n",
            "__________________________________________________________________________________________________\n",
            "block_13_pad (ZeroPadding2D)    (None, 15, 15, 576)  0           block_13_expand_relu[0][0]       \n",
            "__________________________________________________________________________________________________\n",
            "block_13_depthwise (DepthwiseCo (None, 7, 7, 576)    5184        block_13_pad[0][0]               \n",
            "__________________________________________________________________________________________________\n",
            "block_13_depthwise_BN (BatchNor (None, 7, 7, 576)    2304        block_13_depthwise[0][0]         \n",
            "__________________________________________________________________________________________________\n",
            "block_13_depthwise_relu (ReLU)  (None, 7, 7, 576)    0           block_13_depthwise_BN[0][0]      \n",
            "__________________________________________________________________________________________________\n",
            "block_13_project (Conv2D)       (None, 7, 7, 160)    92160       block_13_depthwise_relu[0][0]    \n",
            "__________________________________________________________________________________________________\n",
            "block_13_project_BN (BatchNorma (None, 7, 7, 160)    640         block_13_project[0][0]           \n",
            "__________________________________________________________________________________________________\n",
            "block_14_expand (Conv2D)        (None, 7, 7, 960)    153600      block_13_project_BN[0][0]        \n",
            "__________________________________________________________________________________________________\n",
            "block_14_expand_BN (BatchNormal (None, 7, 7, 960)    3840        block_14_expand[0][0]            \n",
            "__________________________________________________________________________________________________\n",
            "block_14_expand_relu (ReLU)     (None, 7, 7, 960)    0           block_14_expand_BN[0][0]         \n",
            "__________________________________________________________________________________________________\n",
            "block_14_depthwise (DepthwiseCo (None, 7, 7, 960)    8640        block_14_expand_relu[0][0]       \n",
            "__________________________________________________________________________________________________\n",
            "block_14_depthwise_BN (BatchNor (None, 7, 7, 960)    3840        block_14_depthwise[0][0]         \n",
            "__________________________________________________________________________________________________\n",
            "block_14_depthwise_relu (ReLU)  (None, 7, 7, 960)    0           block_14_depthwise_BN[0][0]      \n",
            "__________________________________________________________________________________________________\n",
            "block_14_project (Conv2D)       (None, 7, 7, 160)    153600      block_14_depthwise_relu[0][0]    \n",
            "__________________________________________________________________________________________________\n",
            "block_14_project_BN (BatchNorma (None, 7, 7, 160)    640         block_14_project[0][0]           \n",
            "__________________________________________________________________________________________________\n",
            "block_14_add (Add)              (None, 7, 7, 160)    0           block_13_project_BN[0][0]        \n",
            "                                                                 block_14_project_BN[0][0]        \n",
            "__________________________________________________________________________________________________\n",
            "block_15_expand (Conv2D)        (None, 7, 7, 960)    153600      block_14_add[0][0]               \n",
            "__________________________________________________________________________________________________\n",
            "block_15_expand_BN (BatchNormal (None, 7, 7, 960)    3840        block_15_expand[0][0]            \n",
            "__________________________________________________________________________________________________\n",
            "block_15_expand_relu (ReLU)     (None, 7, 7, 960)    0           block_15_expand_BN[0][0]         \n",
            "__________________________________________________________________________________________________\n",
            "block_15_depthwise (DepthwiseCo (None, 7, 7, 960)    8640        block_15_expand_relu[0][0]       \n",
            "__________________________________________________________________________________________________\n",
            "block_15_depthwise_BN (BatchNor (None, 7, 7, 960)    3840        block_15_depthwise[0][0]         \n",
            "__________________________________________________________________________________________________\n",
            "block_15_depthwise_relu (ReLU)  (None, 7, 7, 960)    0           block_15_depthwise_BN[0][0]      \n",
            "__________________________________________________________________________________________________\n",
            "block_15_project (Conv2D)       (None, 7, 7, 160)    153600      block_15_depthwise_relu[0][0]    \n",
            "__________________________________________________________________________________________________\n",
            "block_15_project_BN (BatchNorma (None, 7, 7, 160)    640         block_15_project[0][0]           \n",
            "__________________________________________________________________________________________________\n",
            "block_15_add (Add)              (None, 7, 7, 160)    0           block_14_add[0][0]               \n",
            "                                                                 block_15_project_BN[0][0]        \n",
            "__________________________________________________________________________________________________\n",
            "block_16_expand (Conv2D)        (None, 7, 7, 960)    153600      block_15_add[0][0]               \n",
            "__________________________________________________________________________________________________\n",
            "block_16_expand_BN (BatchNormal (None, 7, 7, 960)    3840        block_16_expand[0][0]            \n",
            "__________________________________________________________________________________________________\n",
            "block_16_expand_relu (ReLU)     (None, 7, 7, 960)    0           block_16_expand_BN[0][0]         \n",
            "__________________________________________________________________________________________________\n",
            "block_16_depthwise (DepthwiseCo (None, 7, 7, 960)    8640        block_16_expand_relu[0][0]       \n",
            "__________________________________________________________________________________________________\n",
            "block_16_depthwise_BN (BatchNor (None, 7, 7, 960)    3840        block_16_depthwise[0][0]         \n",
            "__________________________________________________________________________________________________\n",
            "block_16_depthwise_relu (ReLU)  (None, 7, 7, 960)    0           block_16_depthwise_BN[0][0]      \n",
            "__________________________________________________________________________________________________\n",
            "block_16_project (Conv2D)       (None, 7, 7, 320)    307200      block_16_depthwise_relu[0][0]    \n",
            "__________________________________________________________________________________________________\n",
            "block_16_project_BN (BatchNorma (None, 7, 7, 320)    1280        block_16_project[0][0]           \n",
            "__________________________________________________________________________________________________\n",
            "Conv_1 (Conv2D)                 (None, 7, 7, 1280)   409600      block_16_project_BN[0][0]        \n",
            "__________________________________________________________________________________________________\n",
            "Conv_1_bn (BatchNormalization)  (None, 7, 7, 1280)   5120        Conv_1[0][0]                     \n",
            "__________________________________________________________________________________________________\n",
            "out_relu (ReLU)                 (None, 7, 7, 1280)   0           Conv_1_bn[0][0]                  \n",
            "__________________________________________________________________________________________________\n",
            "global_average_pooling2d_1 (Glo (None, 1280)         0           out_relu[0][0]                   \n",
            "__________________________________________________________________________________________________\n",
            "predictions (Dense)             (None, 1000)         1281000     global_average_pooling2d_1[0][0] \n",
            "==================================================================================================\n",
            "Total params: 3,538,984\n",
            "Trainable params: 3,504,872\n",
            "Non-trainable params: 34,112\n",
            "__________________________________________________________________________________________________\n"
          ],
          "name": "stdout"
        }
      ]
    },
    {
      "cell_type": "markdown",
      "metadata": {
        "id": "EuN_hWgZoPi5"
      },
      "source": [
        "Training"
      ]
    },
    {
      "cell_type": "code",
      "metadata": {
        "colab": {
          "base_uri": "https://localhost:8080/"
        },
        "id": "E5Rtc6GYoRFl",
        "outputId": "4916be77-e3dd-423b-dc29-15509f9d1e9d"
      },
      "source": [
        "face_mask_detection=model.fit(training,validation_data=validation,epochs=3)"
      ],
      "execution_count": 16,
      "outputs": [
        {
          "output_type": "stream",
          "text": [
            "Epoch 1/3\n"
          ],
          "name": "stdout"
        },
        {
          "output_type": "stream",
          "text": [
            "/usr/local/lib/python3.7/dist-packages/tensorflow/python/keras/backend.py:4930: UserWarning: \"`sparse_categorical_crossentropy` received `from_logits=True`, but the `output` argument was produced by a sigmoid or softmax activation and thus does not represent logits. Was this intended?\"\n",
            "  '\"`sparse_categorical_crossentropy` received `from_logits=True`, but '\n"
          ],
          "name": "stderr"
        },
        {
          "output_type": "stream",
          "text": [
            "5/5 [==============================] - 54s 5s/step - loss: 3.4138 - accuracy: 0.5735 - val_loss: 56.6018 - val_accuracy: 0.0000e+00\n",
            "Epoch 2/3\n",
            "5/5 [==============================] - 2s 362ms/step - loss: 0.0891 - accuracy: 1.0000 - val_loss: 51.0498 - val_accuracy: 0.0000e+00\n",
            "Epoch 3/3\n",
            "5/5 [==============================] - 2s 367ms/step - loss: 0.0123 - accuracy: 1.0000 - val_loss: 42.2012 - val_accuracy: 0.0000e+00\n"
          ],
          "name": "stdout"
        }
      ]
    },
    {
      "cell_type": "code",
      "metadata": {
        "colab": {
          "base_uri": "https://localhost:8080/"
        },
        "id": "NUwsNOJXpgLs",
        "outputId": "1c0e01e4-f247-4885-8068-eae92c252530"
      },
      "source": [
        "img=tf.keras.preprocessing.image.load_img('new2.PNG.jpg',target_size=(height, width))\n",
        "image_array=tf.keras.preprocessing.image.img_to_array(img)\n",
        "image_array=tf.expand_dims(image_array,0)\n",
        "image_array.shape"
      ],
      "execution_count": 47,
      "outputs": [
        {
          "output_type": "execute_result",
          "data": {
            "text/plain": [
              "TensorShape([1, 224, 224, 3])"
            ]
          },
          "metadata": {
            "tags": []
          },
          "execution_count": 47
        }
      ]
    },
    {
      "cell_type": "code",
      "metadata": {
        "id": "EISCWuuiqrKZ"
      },
      "source": [
        "predictions=model.predict(image_array)\n",
        "score=tf.nn.softmax(predictions[0])"
      ],
      "execution_count": 48,
      "outputs": []
    },
    {
      "cell_type": "code",
      "metadata": {
        "colab": {
          "base_uri": "https://localhost:8080/"
        },
        "id": "GBliFvpyrCvF",
        "outputId": "c6647d60-af02-468c-c06a-acd38ee1063c"
      },
      "source": [
        "print(score)"
      ],
      "execution_count": 49,
      "outputs": [
        {
          "output_type": "stream",
          "text": [
            "tf.Tensor(\n",
            "[0.00099836 0.0009984  0.00099835 0.00099835 0.00099836 0.00099835\n",
            " 0.00099835 0.00099835 0.00099835 0.00099838 0.00099835 0.00099835\n",
            " 0.00099837 0.00099836 0.00099835 0.00099835 0.00099836 0.00099835\n",
            " 0.00099835 0.00099836 0.00099837 0.00099835 0.00099835 0.00099835\n",
            " 0.00099836 0.00099836 0.00099835 0.00099835 0.00099835 0.00099835\n",
            " 0.00099835 0.00099836 0.00099835 0.00099835 0.00099835 0.00099841\n",
            " 0.00099835 0.00099836 0.00099835 0.00099836 0.00099835 0.00099835\n",
            " 0.00099835 0.00099835 0.00099835 0.00099835 0.00099835 0.00099835\n",
            " 0.00099835 0.00099835 0.00099835 0.00099835 0.00099835 0.00099838\n",
            " 0.00099835 0.00099835 0.00099835 0.00099835 0.00099836 0.00099836\n",
            " 0.00099835 0.00099835 0.00099835 0.00099835 0.00099835 0.00099835\n",
            " 0.00099835 0.00099835 0.00099835 0.00099835 0.00099835 0.00099839\n",
            " 0.00099835 0.00099835 0.00099838 0.00099835 0.00099835 0.00099836\n",
            " 0.00099835 0.00099838 0.00099836 0.00099836 0.00099836 0.00099836\n",
            " 0.00099839 0.00099835 0.00099837 0.00099835 0.00099836 0.00099835\n",
            " 0.00099845 0.00099838 0.00099836 0.00099835 0.00099835 0.00099835\n",
            " 0.00099836 0.00099835 0.00099835 0.00099836 0.00099835 0.00099835\n",
            " 0.00099835 0.00099835 0.00099835 0.00099835 0.00099835 0.00099837\n",
            " 0.00099843 0.00099836 0.00099836 0.00099835 0.00099836 0.00099836\n",
            " 0.00099835 0.00099836 0.00099839 0.00099838 0.00099835 0.00099836\n",
            " 0.00099835 0.00099836 0.00099835 0.00099835 0.00099835 0.00099836\n",
            " 0.00099835 0.00099835 0.00099835 0.00099837 0.00099848 0.00099835\n",
            " 0.00099835 0.00099835 0.00099836 0.00099839 0.00099835 0.00099835\n",
            " 0.00099835 0.00099835 0.00099837 0.00099836 0.00099835 0.00099835\n",
            " 0.00099836 0.00099835 0.00099835 0.00099835 0.00099835 0.00099837\n",
            " 0.00099836 0.00099836 0.00099835 0.00099835 0.00099835 0.00099837\n",
            " 0.00099835 0.00099835 0.00099836 0.00099835 0.00099835 0.00099836\n",
            " 0.00099836 0.00099835 0.00099835 0.00099835 0.00099835 0.00099836\n",
            " 0.00099835 0.00099835 0.00099835 0.00099835 0.00099835 0.00099835\n",
            " 0.00099835 0.00099836 0.00099835 0.00099835 0.00099837 0.00099836\n",
            " 0.00099835 0.00099835 0.00099835 0.00099835 0.00099836 0.00099836\n",
            " 0.00099835 0.00099836 0.00099836 0.00099835 0.00099836 0.00099835\n",
            " 0.00099835 0.00099835 0.00099835 0.00099837 0.00099836 0.00099837\n",
            " 0.00099844 0.00099839 0.00099835 0.00099835 0.00099835 0.00099849\n",
            " 0.00099835 0.00099837 0.00099838 0.00099836 0.00099835 0.00099836\n",
            " 0.00099835 0.00099836 0.00099838 0.00099835 0.00099837 0.00099835\n",
            " 0.00099836 0.00099836 0.00099835 0.00099838 0.00099835 0.0009984\n",
            " 0.00099835 0.00099835 0.00099835 0.00099835 0.00099835 0.00099835\n",
            " 0.00099835 0.00099835 0.00099835 0.00099835 0.00099836 0.00099836\n",
            " 0.00099838 0.00099836 0.00099836 0.00099835 0.00099837 0.00099836\n",
            " 0.00099835 0.00099836 0.00099837 0.00099836 0.00099835 0.00099845\n",
            " 0.00099835 0.00099835 0.00099836 0.00099835 0.00099836 0.00099839\n",
            " 0.00099836 0.00099836 0.00099838 0.00099835 0.00099835 0.00099835\n",
            " 0.00099835 0.00099835 0.00099835 0.00099835 0.00099835 0.00099835\n",
            " 0.00099835 0.00099835 0.00099835 0.00099835 0.00099835 0.00099835\n",
            " 0.00099835 0.00099835 0.00099836 0.00099836 0.00099835 0.00099835\n",
            " 0.00099835 0.00099837 0.00099835 0.00099835 0.00099835 0.00099838\n",
            " 0.00099836 0.00099837 0.00099856 0.00099836 0.00099836 0.00099836\n",
            " 0.00099839 0.00099837 0.00099835 0.00099835 0.00099835 0.00099838\n",
            " 0.00099835 0.00099835 0.00099836 0.00099835 0.00099835 0.00099835\n",
            " 0.00099835 0.00099835 0.00099835 0.00099835 0.00099835 0.00099835\n",
            " 0.00099836 0.00099835 0.00099844 0.00099835 0.00099835 0.00099836\n",
            " 0.00099836 0.00099835 0.00099837 0.00099837 0.00099838 0.00099835\n",
            " 0.00099836 0.00099836 0.00099835 0.00099835 0.00099835 0.00099836\n",
            " 0.00099835 0.00099835 0.00099835 0.00099837 0.00099838 0.00099837\n",
            " 0.00099835 0.00099835 0.00099836 0.00099835 0.00099835 0.00099835\n",
            " 0.00099835 0.00099835 0.00099835 0.00099835 0.00099838 0.00099838\n",
            " 0.00099835 0.00099835 0.00099835 0.00099835 0.00099835 0.00099835\n",
            " 0.00099837 0.00099835 0.00099835 0.00099836 0.00099835 0.00099835\n",
            " 0.00099835 0.00099835 0.00099836 0.00099836 0.00099835 0.00099837\n",
            " 0.00099836 0.00099835 0.00099835 0.00099835 0.00099835 0.00099835\n",
            " 0.00099835 0.00099835 0.00099835 0.00099835 0.00099836 0.00099835\n",
            " 0.00099835 0.00099836 0.00099835 0.00099839 0.00099835 0.00099835\n",
            " 0.00099835 0.00099837 0.00099835 0.00099836 0.00099835 0.00099835\n",
            " 0.00099835 0.00099835 0.00099835 0.00099836 0.00099836 0.00099835\n",
            " 0.00099835 0.00099835 0.00099836 0.00099836 0.00099836 0.00099835\n",
            " 0.00099836 0.00099835 0.00099836 0.00099836 0.00099835 0.00099835\n",
            " 0.00099835 0.00099835 0.00099835 0.00099835 0.00099835 0.00099839\n",
            " 0.00099837 0.00099836 0.00099835 0.00099994 0.00099835 0.00099835\n",
            " 0.00099838 0.00099835 0.00099835 0.00099864 0.00099835 0.00099836\n",
            " 0.00099835 0.00099835 0.00099835 0.00099836 0.00099846 0.00099838\n",
            " 0.00099835 0.00099842 0.00099841 0.00099836 0.00099835 0.00099835\n",
            " 0.00099835 0.00099837 0.00099838 0.00099835 0.00099837 0.0009984\n",
            " 0.00099835 0.00099835 0.00099835 0.00099836 0.00099835 0.00099868\n",
            " 0.00099835 0.00099836 0.00099836 0.00099835 0.00099836 0.00099835\n",
            " 0.00099835 0.00099837 0.00099836 0.00099835 0.00099835 0.00099835\n",
            " 0.00099836 0.00099836 0.00099835 0.00099837 0.00099835 0.00099842\n",
            " 0.00099835 0.00099836 0.00099851 0.00099835 0.00099835 0.00099835\n",
            " 0.00099838 0.00099836 0.00099835 0.00099836 0.00099835 0.00099835\n",
            " 0.00099835 0.00099835 0.00099847 0.00099835 0.00099851 0.00099838\n",
            " 0.00099859 0.00099835 0.00099836 0.00099839 0.00099836 0.00099835\n",
            " 0.00099835 0.00099837 0.00099837 0.00099838 0.00099835 0.00099835\n",
            " 0.00099835 0.00099836 0.00099835 0.00099835 0.00099835 0.00099839\n",
            " 0.00099836 0.00099881 0.00099835 0.00099836 0.00099836 0.00099836\n",
            " 0.00099836 0.00099839 0.00099835 0.00099836 0.00099835 0.00099836\n",
            " 0.00099835 0.00099835 0.00099835 0.00099835 0.00099836 0.00099843\n",
            " 0.00099835 0.00099837 0.00099836 0.00099835 0.00099836 0.00099835\n",
            " 0.00099836 0.00099837 0.00099851 0.00099835 0.00099835 0.00099835\n",
            " 0.00099836 0.00099835 0.00099869 0.00099836 0.00099835 0.00099835\n",
            " 0.00099835 0.00099835 0.00099835 0.00099836 0.00099835 0.00099836\n",
            " 0.00099835 0.00099835 0.00099837 0.00099836 0.00099835 0.00099835\n",
            " 0.00099835 0.00099835 0.00099835 0.0009987  0.00099836 0.00099836\n",
            " 0.00099841 0.00099835 0.00099835 0.00099835 0.00100023 0.00099838\n",
            " 0.00099835 0.00099835 0.00099835 0.00099835 0.00099843 0.00099836\n",
            " 0.00099835 0.00099838 0.00099835 0.00099835 0.00099835 0.00099836\n",
            " 0.00099839 0.00099835 0.00099836 0.00099835 0.00099836 0.00099835\n",
            " 0.00099835 0.00099836 0.00099836 0.00099836 0.00099845 0.00099836\n",
            " 0.00099859 0.00099835 0.00099835 0.00099845 0.00099835 0.00099835\n",
            " 0.00099836 0.00099835 0.00099839 0.00099887 0.00099835 0.00099835\n",
            " 0.00099835 0.00099835 0.00099835 0.00099835 0.00099836 0.00099848\n",
            " 0.00099836 0.00099835 0.00099835 0.00099836 0.00099836 0.00099836\n",
            " 0.00099843 0.00099838 0.00099835 0.00099837 0.00099836 0.00099839\n",
            " 0.00099836 0.00099835 0.00099845 0.00099835 0.00099835 0.00099838\n",
            " 0.00099837 0.00100064 0.00099841 0.00099837 0.00099837 0.00099835\n",
            " 0.00099835 0.00099836 0.00099835 0.00099835 0.00099835 0.00099848\n",
            " 0.00099835 0.00099838 0.00099837 0.00099836 0.00099835 0.00099836\n",
            " 0.00099838 0.00099838 0.00099836 0.00099836 0.00099835 0.00099835\n",
            " 0.00099837 0.00099836 0.00099836 0.00099835 0.00099842 0.00099838\n",
            " 0.00099835 0.00099835 0.00099836 0.00099836 0.00099835 0.00099837\n",
            " 0.00099835 0.0009984  0.00099835 0.00099837 0.00099835 0.00099838\n",
            " 0.00099837 0.00099835 0.00099835 0.00099835 0.00099842 0.00099836\n",
            " 0.00099835 0.00099835 0.00099835 0.00099835 0.00099841 0.00099835\n",
            " 0.00099838 0.00099835 0.00099835 0.00099835 0.00099835 0.00099839\n",
            " 0.00099835 0.00099835 0.00099837 0.00099835 0.00099837 0.00099835\n",
            " 0.00099835 0.00099836 0.00099835 0.00099836 0.00099852 0.00099835\n",
            " 0.00099835 0.00099835 0.00099837 0.00099836 0.00099835 0.00099839\n",
            " 0.00099836 0.00099836 0.00099835 0.00099835 0.00099838 0.00099852\n",
            " 0.00099835 0.00099835 0.0009984  0.00099836 0.00099835 0.00099839\n",
            " 0.00099835 0.00099837 0.00099835 0.00099838 0.00099835 0.00099835\n",
            " 0.00099835 0.00099835 0.00099841 0.00099838 0.00099837 0.00099837\n",
            " 0.00099835 0.00100932 0.00099837 0.00099835 0.00099843 0.00099838\n",
            " 0.00099835 0.00099835 0.00099883 0.00099836 0.00099835 0.00099835\n",
            " 0.00099835 0.00099836 0.00099835 0.00099838 0.00099835 0.00099843\n",
            " 0.00099835 0.00099835 0.00099835 0.00099841 0.00099835 0.00099835\n",
            " 0.00099836 0.00099835 0.00099835 0.00099849 0.0009984  0.00099836\n",
            " 0.00099844 0.00099836 0.00099835 0.00099835 0.00099835 0.00099835\n",
            " 0.00099835 0.00099839 0.00099836 0.00099836 0.00099839 0.00099837\n",
            " 0.00099836 0.00099835 0.00099835 0.00099835 0.00099845 0.00099835\n",
            " 0.00099835 0.00099835 0.0009984  0.00099835 0.00099836 0.00099835\n",
            " 0.00099835 0.00099838 0.00099836 0.00099835 0.00099836 0.00099837\n",
            " 0.00099839 0.00099837 0.00099869 0.00099835 0.00099835 0.00099836\n",
            " 0.00099835 0.00099835 0.00099837 0.00099839 0.00099838 0.00099836\n",
            " 0.00099837 0.00099836 0.00261002 0.00099835 0.00099836 0.00099837\n",
            " 0.00099835 0.00099836 0.0010001  0.00099844 0.00099842 0.00099837\n",
            " 0.00099835 0.00099838 0.00099835 0.00099835 0.00099839 0.00099835\n",
            " 0.00099835 0.00099835 0.00099836 0.00099836 0.00099835 0.00099849\n",
            " 0.00099835 0.00099835 0.00099869 0.00099841 0.00099835 0.00099835\n",
            " 0.00099856 0.00099835 0.00099835 0.00099836 0.00099836 0.00099835\n",
            " 0.00099843 0.00099835 0.00099835 0.00099836 0.00099836 0.00099835\n",
            " 0.00099835 0.00099835 0.00099836 0.00099851 0.0009984  0.00099836\n",
            " 0.00099835 0.0009988  0.00099836 0.00099835 0.00099839 0.00099835\n",
            " 0.00099837 0.00099835 0.00099835 0.00099838 0.00099835 0.00099851\n",
            " 0.00099835 0.00099835 0.0009984  0.00099835 0.00099835 0.00099835\n",
            " 0.00099835 0.0009985  0.00099835 0.00099836 0.00099836 0.00099836\n",
            " 0.00099836 0.00099837 0.00099835 0.00099836 0.00099838 0.00099839\n",
            " 0.00099835 0.00099835 0.00099835 0.00099835 0.00099835 0.00099836\n",
            " 0.00099836 0.00099835 0.00099835 0.00099949 0.00099835 0.00099836\n",
            " 0.00099835 0.00099835 0.00099836 0.00099835 0.0009984  0.00099835\n",
            " 0.00099835 0.00099835 0.00099835 0.00099835 0.00099836 0.00099848\n",
            " 0.00099842 0.00099837 0.00099835 0.00099835 0.00099838 0.00099836\n",
            " 0.00099836 0.00099835 0.00099837 0.00099836 0.00099872 0.00099847\n",
            " 0.00099842 0.00099835 0.00099835 0.0009985  0.00099835 0.00099836\n",
            " 0.00099835 0.00099835 0.00099835 0.00099853 0.00099862 0.00099852\n",
            " 0.00099837 0.00099836 0.00099835 0.00099835 0.00099838 0.00099838\n",
            " 0.00099835 0.00099835 0.00099835 0.00099835 0.00099835 0.00099837\n",
            " 0.00099836 0.00099835 0.00099835 0.00099836 0.00099837 0.00099836\n",
            " 0.00099835 0.00099835 0.00099835 0.00099835 0.00099835 0.00099835\n",
            " 0.00099835 0.00099835 0.00099836 0.00099835 0.00099835 0.00099845\n",
            " 0.00099835 0.00099835 0.00099836 0.00099835 0.00099835 0.00099836\n",
            " 0.00099835 0.00099835 0.00099835 0.00099835 0.00099835 0.00099835\n",
            " 0.00099835 0.00099835 0.00099835 0.00099835 0.00099835 0.00099835\n",
            " 0.00099841 0.00099835 0.00099838 0.00099835 0.00099835 0.00099862\n",
            " 0.00099835 0.00099848 0.00099837 0.00099835 0.00099835 0.00099835\n",
            " 0.00099837 0.00099836 0.00099836 0.00099835 0.00099836 0.00099837\n",
            " 0.00099835 0.00099837 0.00099835 0.00099841 0.00099835 0.00099836\n",
            " 0.00099835 0.00099835 0.00099841 0.00099835 0.00099835 0.00099835\n",
            " 0.00099835 0.00099835 0.00099835 0.00099856], shape=(1000,), dtype=float32)\n"
          ],
          "name": "stdout"
        }
      ]
    },
    {
      "cell_type": "code",
      "metadata": {
        "colab": {
          "base_uri": "https://localhost:8080/"
        },
        "id": "d9f8ZHA_r8dX",
        "outputId": "b657fca5-e180-473d-b421-672e83741799"
      },
      "source": [
        "model.save('dummy.model',save_format=\"h5\")"
      ],
      "execution_count": 50,
      "outputs": [
        {
          "output_type": "stream",
          "text": [
            "/usr/local/lib/python3.7/dist-packages/tensorflow/python/keras/utils/generic_utils.py:497: CustomMaskWarning: Custom mask layers require a config and must override get_config. When loading, the custom mask layer must be passed to the custom_objects argument.\n",
            "  category=CustomMaskWarning)\n"
          ],
          "name": "stderr"
        }
      ]
    },
    {
      "cell_type": "code",
      "metadata": {
        "colab": {
          "base_uri": "https://localhost:8080/",
          "height": 35
        },
        "id": "zklokVAUsUMv",
        "outputId": "68588e3e-2302-47d3-cf01-4b1c053f7f6a"
      },
      "source": [
        "import tensorflow as tf\n",
        "tf.version.VERSION"
      ],
      "execution_count": 59,
      "outputs": [
        {
          "output_type": "execute_result",
          "data": {
            "application/vnd.google.colaboratory.intrinsic+json": {
              "type": "string"
            },
            "text/plain": [
              "'2.5.0'"
            ]
          },
          "metadata": {
            "tags": []
          },
          "execution_count": 59
        }
      ]
    },
    {
      "cell_type": "code",
      "metadata": {
        "id": "t6akCnU6sloF"
      },
      "source": [
        "from tensorflow.keras.models import load_model\n",
        "detector = load_model('dummy.model')"
      ],
      "execution_count": 60,
      "outputs": []
    },
    {
      "cell_type": "code",
      "metadata": {
        "colab": {
          "base_uri": "https://localhost:8080/"
        },
        "id": "fWQuqMves0UA",
        "outputId": "5643f664-7514-4f50-920a-1795fde5b8fc"
      },
      "source": [
        "!git clone http://github.com/opencv/opencv.git\n",
        "!mkdir Video"
      ],
      "execution_count": 64,
      "outputs": [
        {
          "output_type": "stream",
          "text": [
            "fatal: destination path 'opencv' already exists and is not an empty directory.\n",
            "mkdir: cannot create directory ‘Video’: File exists\n"
          ],
          "name": "stdout"
        }
      ]
    },
    {
      "cell_type": "code",
      "metadata": {
        "id": "QrqFGEchuAc2"
      },
      "source": [
        "!pip install ffmpeg-python\n",
        "\n",
        "from IPython.display import HTML, Javascript, display\n",
        "from google.colab.output import eval_js\n",
        "from base64 import b64decode\n",
        "import numpy as np\n",
        "import io\n",
        "import ffmpeg\n",
        "video_file_test='/content/Video/osy_test.mp4'\n",
        "VIDEO_HTML=\"\"\"\n",
        "<script>\n",
        "var my_div=document.createElement(“DIV”);\n",
        "var my_p=document.createElement(“p”);\n",
        "var my_btn=document.createElement(“BUTTON”);\n",
        "var my_btn_txt=document.createTextNode(“Press to start recording”);\n",
        "my_btn.appendChild(my_btn_txt);\n",
        "my_div.appendChild(my_btn);\n",
        "document.body.appendChild(my_div);\n",
        "var base64data=0;\n",
        "var reader;\n",
        "var recorder,videoStream;\n",
        "var recordButton=my_btn;\n",
        "var handleSuccess=function(stream)\n",
        "{\n",
        "videoStream=stream;\n",
        "var options={\n",
        "mimeType:’video/webm;codecs=vp9’\n",
        "};\n",
        "recorder=new MediaRecorder(stream,options);\n",
        "recorder.ondataavailable=function(e) {\n",
        "var url=URL.createObjectURL(e.data);\n",
        "var preview=document.createElement(‘video’);\n",
        "preview.controls=true;\n",
        "preview.src=url;\n",
        "document.body.appendChild(preview);\n",
        "reader =new FileReader():\n",
        "reader.readAsDataURL(e.data);\n",
        "reader.onloadend=function(){\n",
        "base64data=reader.result;\n",
        "}\n",
        "};\n",
        "recorder.start();\n",
        "};\n",
        "recordButton.innerText=”Recording……press to stop”;\n",
        "navigator.mediaDevices.getUserMedia({video:true}).then(handleSuccess);\n",
        "function toggleRecording(){\n",
        "if(recorder && recorder.state==”recording”){\n",
        "recorder.stop();\n",
        "videoStream.getVideoTracks()[0].stop();\n",
        "recordButton.innerText=”Saving the recording…….Please wait!”\n",
        "}\n",
        "}\n",
        "function sleep(ms){\n",
        "return new Promise(resolve=>setTimeout(resolve,ms));\n",
        "}\n",
        "var data=new Promise(resolve=>{\n",
        "recordButton.onclick=()=>{\n",
        "toggleRecording()\n",
        "sleep(2000).then(()=>{\n",
        "//wait 2000ms for the data to be available\n",
        "resolve(base64data.toString())\n",
        "});\n",
        "}\n",
        "});\n",
        "\n",
        "</script>\n",
        "\"\"\"\n",
        "\n",
        "\n",
        "\n",
        "def start_webcam():\n",
        "  js=Javascript('''\n",
        "    async function startWebcam() {\n",
        "      const div=document.createElement('div');\n",
        "      const video=document.createElement('video');\n",
        "      video.style.display='block';\n",
        "      const stream=await navigator.mediaDevices.getUserMedia({video: true});\n",
        "      document.body.appendChild(div);\n",
        "      div.appendChild(video);\n",
        "      video.scrObject=stream;\n",
        "      await video.play();\n",
        "      google.colab.output.setIframeHeight(document.documentElement.srollHeight, true);\n",
        "      \n",
        "      return;\n",
        "          }\n",
        "          ''')\n",
        "  \n",
        "  display(js)\n",
        "  data=eval_js('startWebcam()')\n",
        "\n",
        "\n",
        "start_webcam()\n",
        "\n",
        "def get_video():\n",
        "  display(HTML(VIDEO_HTML))\n",
        "  data=eval_js(\"data\")\n",
        "  binary=b64decode(data.split(',')[1])\n",
        "\n",
        "  return binary"
      ],
      "execution_count": 68,
      "outputs": []
    },
    {
      "cell_type": "code",
      "metadata": {
        "colab": {
          "base_uri": "https://localhost:8080/",
          "height": 337
        },
        "id": "jFqaPOotsYz_",
        "outputId": "64b09c9d-fb92-4d6d-ff15-7e51c55d1bab"
      },
      "source": [
        "videofile=get_video()\n",
        "with open(video_file_test, 'wb') as f:\n",
        "  f,write(videofile)"
      ],
      "execution_count": 66,
      "outputs": [
        {
          "output_type": "display_data",
          "data": {
            "text/html": [
              "\n",
              "<script>\n",
              "var my_div=document.createElement(“DIV”);\n",
              "var my_p=document.createElement(“p”);\n",
              "var my_btn=document.createElement(“BUTTON”);\n",
              "var my_btn_txt=document.createTextNode(“Press to start recording”);\n",
              "my_btn.appendChild(my_btn_txt);\n",
              "my_div.appendChild(my_btn);\n",
              "document.body.appendChild(my_div);\n",
              "var base64data=0;\n",
              "var reader;\n",
              "var recorder,videoStream;\n",
              "var recordButton=my_btn;\n",
              "var handleSuccess=function(stream)\n",
              "{\n",
              "videoStream=stream;\n",
              "var options={\n",
              "mimeType:’video/webm;codecs=vp9’\n",
              "};\n",
              "recorder=new MediaRecorder(stream,options);\n",
              "recorder.ondataavailable=function(e) {\n",
              "var url=URL.createObjectURL(e.data);\n",
              "var preview=document.createElement(‘video’);\n",
              "preview.controls=true;\n",
              "preview.src=url;\n",
              "document.body.appendChild(preview);\n",
              "reader =new FileReader():\n",
              "reader.readAsDataURL(e.data);\n",
              "reader.onloadend=function(){\n",
              "base64data=reader.result;\n",
              "}\n",
              "};\n",
              "recorder.start();\n",
              "};\n",
              "recordButton.innerText=”Recording……press to stop”;\n",
              "navigator.mediaDevices.getUserMedia({video:true}).then(handleSuccess);\n",
              "function toggleRecording(){\n",
              "if(recorder && recorder.state==”recording”){\n",
              "recorder.stop();\n",
              "videoStream.getVideoTracks()[0].stop();\n",
              "recordButton.innerText=”Saving the recording…….Please wait!”\n",
              "}\n",
              "}\n",
              "function sleep(ms){\n",
              "return new Promise(resolve=>setTimeout(resolve,ms));\n",
              "}\n",
              "var data=new Promise(resolve=>{\n",
              "recordButton.onclick=()=>{\n",
              "toggleRecording()\n",
              "sleep(2000).then(()=>{\n",
              "//wait 2000ms for the data to be available\n",
              "resolve(base64data.toString())\n",
              "});\n",
              "}\n",
              "});\n",
              "\n",
              "</script>\n"
            ],
            "text/plain": [
              "<IPython.core.display.HTML object>"
            ]
          },
          "metadata": {
            "tags": []
          }
        },
        {
          "output_type": "error",
          "ename": "MessageError",
          "evalue": "ignored",
          "traceback": [
            "\u001b[0;31m---------------------------------------------------------------------------\u001b[0m",
            "\u001b[0;31mMessageError\u001b[0m                              Traceback (most recent call last)",
            "\u001b[0;32m<ipython-input-66-84b10301a8eb>\u001b[0m in \u001b[0;36m<module>\u001b[0;34m()\u001b[0m\n\u001b[0;32m----> 1\u001b[0;31m \u001b[0mvideofile\u001b[0m\u001b[0;34m=\u001b[0m\u001b[0mget_video\u001b[0m\u001b[0;34m(\u001b[0m\u001b[0;34m)\u001b[0m\u001b[0;34m\u001b[0m\u001b[0;34m\u001b[0m\u001b[0m\n\u001b[0m\u001b[1;32m      2\u001b[0m \u001b[0;32mwith\u001b[0m \u001b[0mopen\u001b[0m\u001b[0;34m(\u001b[0m\u001b[0mvideo_file_test\u001b[0m\u001b[0;34m,\u001b[0m \u001b[0;34m'wb'\u001b[0m\u001b[0;34m)\u001b[0m \u001b[0;32mas\u001b[0m \u001b[0mf\u001b[0m\u001b[0;34m:\u001b[0m\u001b[0;34m\u001b[0m\u001b[0;34m\u001b[0m\u001b[0m\n\u001b[1;32m      3\u001b[0m   \u001b[0mf\u001b[0m\u001b[0;34m,\u001b[0m\u001b[0mwrite\u001b[0m\u001b[0;34m(\u001b[0m\u001b[0mvideofile\u001b[0m\u001b[0;34m)\u001b[0m\u001b[0;34m\u001b[0m\u001b[0;34m\u001b[0m\u001b[0m\n",
            "\u001b[0;32m<ipython-input-65-8717c07ab60a>\u001b[0m in \u001b[0;36mget_video\u001b[0;34m()\u001b[0m\n\u001b[1;32m     94\u001b[0m \u001b[0;32mdef\u001b[0m \u001b[0mget_video\u001b[0m\u001b[0;34m(\u001b[0m\u001b[0;34m)\u001b[0m\u001b[0;34m:\u001b[0m\u001b[0;34m\u001b[0m\u001b[0;34m\u001b[0m\u001b[0m\n\u001b[1;32m     95\u001b[0m   \u001b[0mdisplay\u001b[0m\u001b[0;34m(\u001b[0m\u001b[0mHTML\u001b[0m\u001b[0;34m(\u001b[0m\u001b[0mVIDEO_HTML\u001b[0m\u001b[0;34m)\u001b[0m\u001b[0;34m)\u001b[0m\u001b[0;34m\u001b[0m\u001b[0;34m\u001b[0m\u001b[0m\n\u001b[0;32m---> 96\u001b[0;31m   \u001b[0mdata\u001b[0m\u001b[0;34m=\u001b[0m\u001b[0meval_js\u001b[0m\u001b[0;34m(\u001b[0m\u001b[0;34m\"data\"\u001b[0m\u001b[0;34m)\u001b[0m\u001b[0;34m\u001b[0m\u001b[0;34m\u001b[0m\u001b[0m\n\u001b[0m\u001b[1;32m     97\u001b[0m   \u001b[0mbinary\u001b[0m\u001b[0;34m=\u001b[0m\u001b[0mb64decode\u001b[0m\u001b[0;34m(\u001b[0m\u001b[0mdata\u001b[0m\u001b[0;34m.\u001b[0m\u001b[0msplit\u001b[0m\u001b[0;34m(\u001b[0m\u001b[0;34m','\u001b[0m\u001b[0;34m)\u001b[0m\u001b[0;34m[\u001b[0m\u001b[0;36m1\u001b[0m\u001b[0;34m]\u001b[0m\u001b[0;34m)\u001b[0m\u001b[0;34m\u001b[0m\u001b[0;34m\u001b[0m\u001b[0m\n\u001b[1;32m     98\u001b[0m \u001b[0;34m\u001b[0m\u001b[0m\n",
            "\u001b[0;32m/usr/local/lib/python3.7/dist-packages/google/colab/output/_js.py\u001b[0m in \u001b[0;36meval_js\u001b[0;34m(script, ignore_result, timeout_sec)\u001b[0m\n\u001b[1;32m     38\u001b[0m   \u001b[0;32mif\u001b[0m \u001b[0mignore_result\u001b[0m\u001b[0;34m:\u001b[0m\u001b[0;34m\u001b[0m\u001b[0;34m\u001b[0m\u001b[0m\n\u001b[1;32m     39\u001b[0m     \u001b[0;32mreturn\u001b[0m\u001b[0;34m\u001b[0m\u001b[0;34m\u001b[0m\u001b[0m\n\u001b[0;32m---> 40\u001b[0;31m   \u001b[0;32mreturn\u001b[0m \u001b[0m_message\u001b[0m\u001b[0;34m.\u001b[0m\u001b[0mread_reply_from_input\u001b[0m\u001b[0;34m(\u001b[0m\u001b[0mrequest_id\u001b[0m\u001b[0;34m,\u001b[0m \u001b[0mtimeout_sec\u001b[0m\u001b[0;34m)\u001b[0m\u001b[0;34m\u001b[0m\u001b[0;34m\u001b[0m\u001b[0m\n\u001b[0m\u001b[1;32m     41\u001b[0m \u001b[0;34m\u001b[0m\u001b[0m\n\u001b[1;32m     42\u001b[0m \u001b[0;34m\u001b[0m\u001b[0m\n",
            "\u001b[0;32m/usr/local/lib/python3.7/dist-packages/google/colab/_message.py\u001b[0m in \u001b[0;36mread_reply_from_input\u001b[0;34m(message_id, timeout_sec)\u001b[0m\n\u001b[1;32m    104\u001b[0m         reply.get('colab_msg_id') == message_id):\n\u001b[1;32m    105\u001b[0m       \u001b[0;32mif\u001b[0m \u001b[0;34m'error'\u001b[0m \u001b[0;32min\u001b[0m \u001b[0mreply\u001b[0m\u001b[0;34m:\u001b[0m\u001b[0;34m\u001b[0m\u001b[0;34m\u001b[0m\u001b[0m\n\u001b[0;32m--> 106\u001b[0;31m         \u001b[0;32mraise\u001b[0m \u001b[0mMessageError\u001b[0m\u001b[0;34m(\u001b[0m\u001b[0mreply\u001b[0m\u001b[0;34m[\u001b[0m\u001b[0;34m'error'\u001b[0m\u001b[0;34m]\u001b[0m\u001b[0;34m)\u001b[0m\u001b[0;34m\u001b[0m\u001b[0;34m\u001b[0m\u001b[0m\n\u001b[0m\u001b[1;32m    107\u001b[0m       \u001b[0;32mreturn\u001b[0m \u001b[0mreply\u001b[0m\u001b[0;34m.\u001b[0m\u001b[0mget\u001b[0m\u001b[0;34m(\u001b[0m\u001b[0;34m'data'\u001b[0m\u001b[0;34m,\u001b[0m \u001b[0;32mNone\u001b[0m\u001b[0;34m)\u001b[0m\u001b[0;34m\u001b[0m\u001b[0;34m\u001b[0m\u001b[0m\n\u001b[1;32m    108\u001b[0m \u001b[0;34m\u001b[0m\u001b[0m\n",
            "\u001b[0;31mMessageError\u001b[0m: ReferenceError: data is not defined"
          ]
        }
      ]
    },
    {
      "cell_type": "code",
      "metadata": {
        "colab": {
          "base_uri": "https://localhost:8080/",
          "height": 128
        },
        "id": "jNNVSw1e4b8v",
        "outputId": "110b6959-1d48-492c-bb7a-8232015696fc"
      },
      "source": [
        "import tensorflow as tf\n",
        "import cv2\n",
        "import numpy\n",
        "\n",
        "cap=cv2.VideoCapture(video_file_test)\n",
        "classifier=cv2.CascadeClassifier(cv2.data.haarcascades='haarcascade_frontalface_default_xml')"
      ],
      "execution_count": 67,
      "outputs": [
        {
          "output_type": "error",
          "ename": "SyntaxError",
          "evalue": "ignored",
          "traceback": [
            "\u001b[0;36m  File \u001b[0;32m\"<ipython-input-67-6297b1bd3bba>\"\u001b[0;36m, line \u001b[0;32m6\u001b[0m\n\u001b[0;31m    classifier=cv2.CascadeClassifier(cv2.data.haarcascades='haarcascade_frontalface_default_xml')\u001b[0m\n\u001b[0m                                    ^\u001b[0m\n\u001b[0;31mSyntaxError\u001b[0m\u001b[0;31m:\u001b[0m keyword can't be an expression\n"
          ]
        }
      ]
    },
    {
      "cell_type": "code",
      "metadata": {
        "id": "VFPXKjwJ5IZs"
      },
      "source": [
        "from google.colab.patches import cv2_imshow\n",
        "while True:\n",
        "  (success,frame)= cap.read()\n",
        "  new_image=cv2.resize(frame, (frame.shape[1]//1,frame.shape[0]//1))\n",
        "  face=classifier.detectMultiScale(new_image)\n",
        "  for x,y,w,h in face:\n",
        "    try:\n",
        "      face_img=new_image[y:x+h, x:x+w]\n",
        "      resized=cv2.resize(face_img,(224,224))\n",
        "      image_array=tf.keras.preprocessing.image.img_to_array(resized)\n",
        "      image_array=tf.expand_dims(image_array,0)\n",
        "      predictions= detector.predict(image_array)\n",
        "      score=tf.nn.softmax(predictions[0])\n",
        "      label=numpy.argmax(score)\n",
        "    except Exception as 0:\n",
        "      print(\"bad frame\")\n",
        "\n",
        "    if label==0:\n",
        "      cv2.rectangle(new_image,(x,y),(x+w,y+h),(0,255,0),2)  \n"
      ],
      "execution_count": null,
      "outputs": []
    },
    {
      "cell_type": "code",
      "metadata": {
        "cellView": "form",
        "id": "Eq10uEbw0E4l"
      },
      "source": [
        "#@title Licensed under the Apache License, Version 2.0 (the \"License\");\n",
        "# you may not use this file except in compliance with the License.\n",
        "# You may obtain a copy of the License at\n",
        "#\n",
        "# https://www.apache.org/licenses/LICENSE-2.0\n",
        "#\n",
        "# Unless required by applicable law or agreed to in writing, software\n",
        "# distributed under the License is distributed on an \"AS IS\" BASIS,\n",
        "# WITHOUT WARRANTIES OR CONDITIONS OF ANY KIND, either express or implied.\n",
        "# See the License for the specific language governing permissions and\n",
        "# limitations under the License."
      ],
      "execution_count": null,
      "outputs": []
    },
    {
      "cell_type": "markdown",
      "metadata": {
        "id": "OVi775ZJ2bsy"
      },
      "source": [
        "<table class=\"tfo-notebook-buttons\" align=\"left\">\n",
        "  <td>\n",
        "    <a target=\"_blank\" href=\"https://colab.research.google.com/github/tensorflow/examples/blob/master/courses/udacity_intro_to_tensorflow_for_deep_learning/l01c01_introduction_to_colab_and_python.ipynb\"><img src=\"https://www.tensorflow.org/images/colab_logo_32px.png\" />Run in Google Colab</a>\n",
        "  </td>\n",
        "  <td>\n",
        "    <a target=\"_blank\" href=\"https://github.com/tensorflow/examples/blob/master/courses/udacity_intro_to_tensorflow_for_deep_learning/l01c01_introduction_to_colab_and_python.ipynb\"><img src=\"https://www.tensorflow.org/images/GitHub-Mark-32px.png\" />View source on GitHub</a>\n",
        "  </td>\n",
        "</table>"
      ]
    }
  ]
}