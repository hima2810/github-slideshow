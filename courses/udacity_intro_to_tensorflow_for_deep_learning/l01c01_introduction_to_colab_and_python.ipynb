{
  "nbformat": 4,
  "nbformat_minor": 0,
  "metadata": {
    "accelerator": "GPU",
    "colab": {
      "name": "l01c01_introduction_to_colab_and_python.ipynb",
      "provenance": [],
      "collapsed_sections": [],
      "include_colab_link": true
    },
    "kernelspec": {
      "display_name": "Python 3",
      "name": "python3"
    }
  },
  "cells": [
    {
      "cell_type": "markdown",
      "metadata": {
        "id": "view-in-github",
        "colab_type": "text"
      },
      "source": [
        "<a href=\"https://colab.research.google.com/github/hima2810/github-slideshow/blob/master/courses/udacity_intro_to_tensorflow_for_deep_learning/l01c01_introduction_to_colab_and_python.ipynb\" target=\"_parent\"><img src=\"https://colab.research.google.com/assets/colab-badge.svg\" alt=\"Open In Colab\"/></a>"
      ]
    },
    {
      "cell_type": "markdown",
      "metadata": {
        "id": "Za8-Nr5k11fh"
      },
      "source": [
        "##### Copyright 2018 The TensorFlow Authors."
      ]
    },
    {
      "cell_type": "code",
      "metadata": {
        "colab": {
          "base_uri": "https://localhost:8080/"
        },
        "id": "7xo50WE45BNb",
        "outputId": "66a4e048-6fb9-4ed3-c71d-96d0227e7bfc"
      },
      "source": [
        "from google.colab import drive\n",
        "drive.mount('/content/drive')"
      ],
      "execution_count": 1,
      "outputs": [
        {
          "output_type": "stream",
          "text": [
            "Mounted at /content/drive\n"
          ],
          "name": "stdout"
        }
      ]
    },
    {
      "cell_type": "code",
      "metadata": {
        "id": "ANHkiFbgsT4R"
      },
      "source": [
        ""
      ],
      "execution_count": null,
      "outputs": []
    },
    {
      "cell_type": "code",
      "metadata": {
        "id": "P_xl_7i8jq4s"
      },
      "source": [
        "import tensorflow as tf\n",
        "import numpy as np"
      ],
      "execution_count": 2,
      "outputs": []
    },
    {
      "cell_type": "code",
      "metadata": {
        "id": "34mtrc-aj3ve"
      },
      "source": [
        "width=224\n",
        "height=224\n",
        "batch_size=32\n",
        "data_dir=r\"/content/drive\""
      ],
      "execution_count": 4,
      "outputs": []
    },
    {
      "cell_type": "code",
      "metadata": {
        "colab": {
          "base_uri": "https://localhost:8080/"
        },
        "id": "LfjJ4xiEkXAe",
        "outputId": "c05c6338-94e1-493d-ee80-496acf11def1"
      },
      "source": [
        "training=tf.keras.preprocessing.image_dataset_from_directory(\n",
        "    data_dir,\n",
        "    validation_split=0.3,\n",
        "    subset='training',\n",
        "    seed=123,\n",
        "    image_size=(height,width),\n",
        "    batch_size=batch_size\n",
        ")"
      ],
      "execution_count": 5,
      "outputs": [
        {
          "output_type": "stream",
          "text": [
            "Found 194 files belonging to 4 classes.\n",
            "Using 136 files for training.\n"
          ],
          "name": "stdout"
        }
      ]
    },
    {
      "cell_type": "code",
      "metadata": {
        "colab": {
          "base_uri": "https://localhost:8080/"
        },
        "id": "XcOJcZuxlDuq",
        "outputId": "3096cdc8-1123-48e0-f04b-91bca746ffde"
      },
      "source": [
        "validation=tf.keras.preprocessing.image_dataset_from_directory(\n",
        "    data_dir,\n",
        "    validation_split=0.3,\n",
        "    subset='validation',\n",
        "    seed=123,\n",
        "    image_size=(height,width),\n",
        "    batch_size=batch_size\n",
        ")"
      ],
      "execution_count": 6,
      "outputs": [
        {
          "output_type": "stream",
          "text": [
            "Found 194 files belonging to 4 classes.\n",
            "Using 58 files for validation.\n"
          ],
          "name": "stdout"
        }
      ]
    },
    {
      "cell_type": "code",
      "metadata": {
        "colab": {
          "base_uri": "https://localhost:8080/"
        },
        "id": "zEPfqplyloWq",
        "outputId": "e8fe3067-87ef-487d-8d8b-90647c50f401"
      },
      "source": [
        "classes=training.class_names\n",
        "classes"
      ],
      "execution_count": 9,
      "outputs": [
        {
          "output_type": "execute_result",
          "data": {
            "text/plain": [
              "['.Trash-0', '.file-revisions-by-id', '.shortcut-targets-by-id', 'MyDrive']"
            ]
          },
          "metadata": {
            "tags": []
          },
          "execution_count": 9
        }
      ]
    },
    {
      "cell_type": "code",
      "metadata": {
        "colab": {
          "base_uri": "https://localhost:8080/"
        },
        "id": "ltudsM7al8we",
        "outputId": "ba6e9dd0-a1d6-4f5f-ca1e-33baaf535889"
      },
      "source": [
        "training"
      ],
      "execution_count": 10,
      "outputs": [
        {
          "output_type": "execute_result",
          "data": {
            "text/plain": [
              "<BatchDataset shapes: ((None, 224, 224, 3), (None,)), types: (tf.float32, tf.int32)>"
            ]
          },
          "metadata": {
            "tags": []
          },
          "execution_count": 10
        }
      ]
    },
    {
      "cell_type": "code",
      "metadata": {
        "colab": {
          "base_uri": "https://localhost:8080/",
          "height": 281
        },
        "id": "XIf0-vl0l_hP",
        "outputId": "cf40ca9e-1f50-4b51-ba92-cf371b03c7e0"
      },
      "source": [
        "import matplotlib.pyplot as plt\n",
        "for images, labels in training.take(1):\n",
        "  plt.imshow(images[1].numpy().astype('uint8'))\n",
        "  plt.title(classes[labels[1]])"
      ],
      "execution_count": 11,
      "outputs": [
        {
          "output_type": "display_data",
          "data": {
            "image/png": "[encoded data removed]",
            "text/plain": [
              "<Figure size 432x288 with 1 Axes>"
            ]
          },
          "metadata": {
            "tags": [],
            "needs_background": "light"
          }
        }
      ]
    },
    {
      "cell_type": "code",
      "metadata": {
        "id": "6yr9PyS5mkvb"
      },
      "source": [
        "from tensorflow.keras.applications import MobileNetV2"
      ],
      "execution_count": 12,
      "outputs": []
    },
    {
      "cell_type": "code",
      "metadata": {
        "colab": {
          "base_uri": "https://localhost:8080/"
        },
        "id": "8ptqnw_Om7QW",
        "outputId": "42c60006-bc77-4b05-c3bd-eef0c6ff275f"
      },
      "source": [
        "model= MobileNetV2(weights='imagenet')"
      ],
      "execution_count": 13,
      "outputs": [
        {
          "output_type": "stream",
          "text": [
            "Downloading data from https://storage.googleapis.com/tensorflow/keras-applications/mobilenet_v2/mobilenet_v2_weights_tf_dim_ordering_tf_kernels_1.0_224.h5\n",
            "14540800/14536120 [==============================] - 0s 0us/step\n"
          ],
          "name": "stdout"
        }
      ]
    },
    {
      "cell_type": "code",
      "metadata": {
        "id": "YsSv7on5nLgB"
      },
      "source": [
        "model.compile(optimizer='adam',\n",
        "              loss=tf.keras.losses.SparseCategoricalCrossentropy(from_logits=True),\n",
        "              metrics=['accuracy'])"
      ],
      "execution_count": 14,
      "outputs": []
    },
    {
      "cell_type": "code",
      "metadata": {
        "colab": {
          "base_uri": "https://localhost:8080/"
        },
        "id": "CmwiOoSvnvEG",
        "outputId": "f1b37a02-c6df-4901-9005-fafb4c3d9266"
      },
      "source": [
        "model.summary()"
      ],
      "execution_count": 15,
      "outputs": [
        {
          "output_type": "stream",
          "text": [
            "Model: \"mobilenetv2_1.00_224\"\n",
            "__________________________________________________________________________________________________\n",
            "Layer (type)                    Output Shape         Param #     Connected to                     \n",
            "==================================================================================================\n",
            "input_1 (InputLayer)            [(None, 224, 224, 3) 0                                            \n",
            "__________________________________________________________________________________________________\n",
            "Conv1 (Conv2D)                  (None, 112, 112, 32) 864         input_1[0][0]                    \n",
            "__________________________________________________________________________________________________\n",
            "bn_Conv1 (BatchNormalization)   (None, 112, 112, 32) 128         Conv1[0][0]                      \n",
            "__________________________________________________________________________________________________\n",
            "Conv1_relu (ReLU)               (None, 112, 112, 32) 0           bn_Conv1[0][0]                   \n",
            "__________________________________________________________________________________________________\n",
            "expanded_conv_depthwise (Depthw (None, 112, 112, 32) 288         Conv1_relu[0][0]                 \n",
            "__________________________________________________________________________________________________\n",
            "expanded_conv_depthwise_BN (Bat (None, 112, 112, 32) 128         expanded_conv_depthwise[0][0]    \n",
            "__________________________________________________________________________________________________\n",
            "expanded_conv_depthwise_relu (R (None, 112, 112, 32) 0           expanded_conv_depthwise_BN[0][0] \n",
            "__________________________________________________________________________________________________\n",
            "expanded_conv_project (Conv2D)  (None, 112, 112, 16) 512         expanded_conv_depthwise_relu[0][0\n",
            "__________________________________________________________________________________________________\n",
            "expanded_conv_project_BN (Batch (None, 112, 112, 16) 64          expanded_conv_project[0][0]      \n",
            "__________________________________________________________________________________________________\n",
            "block_1_expand (Conv2D)         (None, 112, 112, 96) 1536        expanded_conv_project_BN[0][0]   \n",
            "__________________________________________________________________________________________________\n",
            "block_1_expand_BN (BatchNormali (None, 112, 112, 96) 384         block_1_expand[0][0]             \n",
            "__________________________________________________________________________________________________\n",
            "block_1_expand_relu (ReLU)      (None, 112, 112, 96) 0           block_1_expand_BN[0][0]          \n",
            "__________________________________________________________________________________________________\n",
            "block_1_pad (ZeroPadding2D)     (None, 113, 113, 96) 0           block_1_expand_relu[0][0]        \n",
            "__________________________________________________________________________________________________\n",
            "block_1_depthwise (DepthwiseCon (None, 56, 56, 96)   864         block_1_pad[0][0]                \n",
            "__________________________________________________________________________________________________\n",
            "block_1_depthwise_BN (BatchNorm (None, 56, 56, 96)   384         block_1_depthwise[0][0]          \n",
            "__________________________________________________________________________________________________\n",
            "block_1_depthwise_relu (ReLU)   (None, 56, 56, 96)   0           block_1_depthwise_BN[0][0]       \n",
            "__________________________________________________________________________________________________\n",
            "block_1_project (Conv2D)        (None, 56, 56, 24)   2304        block_1_depthwise_relu[0][0]     \n",
            "__________________________________________________________________________________________________\n",
            "block_1_project_BN (BatchNormal (None, 56, 56, 24)   96          block_1_project[0][0]            \n",
            "__________________________________________________________________________________________________\n",
            "block_2_expand (Conv2D)         (None, 56, 56, 144)  3456        block_1_project_BN[0][0]         \n",
            "__________________________________________________________________________________________________\n",
            "block_2_expand_BN (BatchNormali (None, 56, 56, 144)  576         block_2_expand[0][0]             \n",
            "__________________________________________________________________________________________________\n",
            "block_2_expand_relu (ReLU)      (None, 56, 56, 144)  0           block_2_expand_BN[0][0]          \n",
            "__________________________________________________________________________________________________\n",
            "block_2_depthwise (DepthwiseCon (None, 56, 56, 144)  1296        block_2_expand_relu[0][0]        \n",
            "__________________________________________________________________________________________________\n",
            "block_2_depthwise_BN (BatchNorm (None, 56, 56, 144)  576         block_2_depthwise[0][0]          \n",
            "__________________________________________________________________________________________________\n",
            "block_2_depthwise_relu (ReLU)   (None, 56, 56, 144)  0           block_2_depthwise_BN[0][0]       \n",
            "__________________________________________________________________________________________________\n",
            "block_2_project (Conv2D)        (None, 56, 56, 24)   3456        block_2_depthwise_relu[0][0]     \n",
            "__________________________________________________________________________________________________\n",
            "block_2_project_BN (BatchNormal (None, 56, 56, 24)   96          block_2_project[0][0]            \n",
            "__________________________________________________________________________________________________\n",
            "block_2_add (Add)               (None, 56, 56, 24)   0           block_1_project_BN[0][0]         \n",
            "                                                                 block_2_project_BN[0][0]         \n",
            "__________________________________________________________________________________________________\n",
            "block_3_expand (Conv2D)         (None, 56, 56, 144)  3456        block_2_add[0][0]                \n",
            "__________________________________________________________________________________________________\n",
            "block_3_expand_BN (BatchNormali (None, 56, 56, 144)  576         block_3_expand[0][0]             \n",
            "__________________________________________________________________________________________________\n",
            "block_3_expand_relu (ReLU)      (None, 56, 56, 144)  0           block_3_expand_BN[0][0]          \n",
            "__________________________________________________________________________________________________\n",
            "block_3_pad (ZeroPadding2D)     (None, 57, 57, 144)  0           block_3_expand_relu[0][0]        \n",
            "__________________________________________________________________________________________________\n",
            "block_3_depthwise (DepthwiseCon (None, 28, 28, 144)  1296        block_3_pad[0][0]                \n",
            "__________________________________________________________________________________________________\n",
            "block_3_depthwise_BN (BatchNorm (None, 28, 28, 144)  576         block_3_depthwise[0][0]          \n",
            "__________________________________________________________________________________________________\n",
            "block_3_depthwise_relu (ReLU)   (None, 28, 28, 144)  0           block_3_depthwise_BN[0][0]       \n",
            "__________________________________________________________________________________________________\n",
            "block_3_project (Conv2D)        (None, 28, 28, 32)   4608        block_3_depthwise_relu[0][0]     \n",
            "__________________________________________________________________________________________________\n",
            "block_3_project_BN (BatchNormal (None, 28, 28, 32)   128         block_3_project[0][0]            \n",
            "__________________________________________________________________________________________________\n",
            "block_4_expand (Conv2D)         (None, 28, 28, 192)  6144        block_3_project_BN[0][0]         \n",
            "__________________________________________________________________________________________________\n",
            "block_4_expand_BN (BatchNormali (None, 28, 28, 192)  768         block_4_expand[0][0]             \n",
            "__________________________________________________________________________________________________\n",
            "block_4_expand_relu (ReLU)      (None, 28, 28, 192)  0           block_4_expand_BN[0][0]          \n",
            "__________________________________________________________________________________________________\n",
            "block_4_depthwise (DepthwiseCon (None, 28, 28, 192)  1728        block_4_expand_relu[0][0]        \n",
            "__________________________________________________________________________________________________\n",
            "block_4_depthwise_BN (BatchNorm (None, 28, 28, 192)  768         block_4_depthwise[0][0]          \n",
            "__________________________________________________________________________________________________\n",
            "block_4_depthwise_relu (ReLU)   (None, 28, 28, 192)  0           block_4_depthwise_BN[0][0]       \n",
            "__________________________________________________________________________________________________\n",
            "block_4_project (Conv2D)        (None, 28, 28, 32)   6144        block_4_depthwise_relu[0][0]     \n",
            "__________________________________________________________________________________________________\n",
            "block_4_project_BN (BatchNormal (None, 28, 28, 32)   128         block_4_project[0][0]            \n",
            "__________________________________________________________________________________________________\n",
            "block_4_add (Add)               (None, 28, 28, 32)   0           block_3_project_BN[0][0]         \n",
            "                                                                 block_4_project_BN[0][0]         \n",
            "__________________________________________________________________________________________________\n",
            "block_5_expand (Conv2D)         (None, 28, 28, 192)  6144        block_4_add[0][0]                \n",
            "__________________________________________________________________________________________________\n",
            "block_5_expand_BN (BatchNormali (None, 28, 28, 192)  768         block_5_expand[0][0]             \n",
            "__________________________________________________________________________________________________\n",
            "block_5_expand_relu (ReLU)      (None, 28, 28, 192)  0           block_5_expand_BN[0][0]          \n",
            "__________________________________________________________________________________________________\n",
            "block_5_depthwise (DepthwiseCon (None, 28, 28, 192)  1728        block_5_expand_relu[0][0]        \n",
            "__________________________________________________________________________________________________\n",
            "block_5_depthwise_BN (BatchNorm (None, 28, 28, 192)  768         block_5_depthwise[0][0]          \n",
            "__________________________________________________________________________________________________\n",
            "block_5_depthwise_relu (ReLU)   (None, 28, 28, 192)  0           block_5_depthwise_BN[0][0]       \n",
            "__________________________________________________________________________________________________\n",
            "block_5_project (Conv2D)        (None, 28, 28, 32)   6144        block_5_depthwise_relu[0][0]     \n",
            "__________________________________________________________________________________________________\n",
            "block_5_project_BN (BatchNormal (None, 28, 28, 32)   128         block_5_project[0][0]            \n",
            "__________________________________________________________________________________________________\n",
            "block_5_add (Add)               (None, 28, 28, 32)   0           block_4_add[0][0]                \n",
            "                                                                 block_5_project_BN[0][0]         \n",
            "__________________________________________________________________________________________________\n",
            "block_6_expand (Conv2D)         (None, 28, 28, 192)  6144        block_5_add[0][0]                \n",
            "__________________________________________________________________________________________________\n",
            "block_6_expand_BN (BatchNormali (None, 28, 28, 192)  768         block_6_expand[0][0]             \n",
            "__________________________________________________________________________________________________\n",
            "block_6_expand_relu (ReLU)      (None, 28, 28, 192)  0           block_6_expand_BN[0][0]          \n",
            "__________________________________________________________________________________________________\n",
            "block_6_pad (ZeroPadding2D)     (None, 29, 29, 192)  0           block_6_expand_relu[0][0]        \n",
            "__________________________________________________________________________________________________\n",
            "block_6_depthwise (DepthwiseCon (None, 14, 14, 192)  1728        block_6_pad[0][0]                \n",
            "__________________________________________________________________________________________________\n",
            "block_6_depthwise_BN (BatchNorm (None, 14, 14, 192)  768         block_6_depthwise[0][0]          \n",
            "__________________________________________________________________________________________________\n",
            "block_6_depthwise_relu (ReLU)   (None, 14, 14, 192)  0           block_6_depthwise_BN[0][0]       \n",
            "__________________________________________________________________________________________________\n",
            "block_6_project (Conv2D)        (None, 14, 14, 64)   12288       block_6_depthwise_relu[0][0]     \n",
            "__________________________________________________________________________________________________\n",
            "block_6_project_BN (BatchNormal (None, 14, 14, 64)   256         block_6_project[0][0]            \n",
            "__________________________________________________________________________________________________\n",
            "block_7_expand (Conv2D)         (None, 14, 14, 384)  24576       block_6_project_BN[0][0]         \n",
            "__________________________________________________________________________________________________\n",
            "block_7_expand_BN (BatchNormali (None, 14, 14, 384)  1536        block_7_expand[0][0]             \n",
            "__________________________________________________________________________________________________\n",
            "block_7_expand_relu (ReLU)      (None, 14, 14, 384)  0           block_7_expand_BN[0][0]          \n",
            "__________________________________________________________________________________________________\n",
            "block_7_depthwise (DepthwiseCon (None, 14, 14, 384)  3456        block_7_expand_relu[0][0]        \n",
            "__________________________________________________________________________________________________\n",
            "block_7_depthwise_BN (BatchNorm (None, 14, 14, 384)  1536        block_7_depthwise[0][0]          \n",
            "__________________________________________________________________________________________________\n",
            "block_7_depthwise_relu (ReLU)   (None, 14, 14, 384)  0           block_7_depthwise_BN[0][0]       \n",
            "__________________________________________________________________________________________________\n",
            "block_7_project (Conv2D)        (None, 14, 14, 64)   24576       block_7_depthwise_relu[0][0]     \n",
            "__________________________________________________________________________________________________\n",
            "block_7_project_BN (BatchNormal (None, 14, 14, 64)   256         block_7_project[0][0]            \n",
            "__________________________________________________________________________________________________\n",
            "block_7_add (Add)               (None, 14, 14, 64)   0           block_6_project_BN[0][0]         \n",
            "                                                                 block_7_project_BN[0][0]         \n",
            "__________________________________________________________________________________________________\n",
            "block_8_expand (Conv2D)         (None, 14, 14, 384)  24576       block_7_add[0][0]                \n",
            "__________________________________________________________________________________________________\n",
            "block_8_expand_BN (BatchNormali (None, 14, 14, 384)  1536        block_8_expand[0][0]             \n",
            "__________________________________________________________________________________________________\n",
            "block_8_expand_relu (ReLU)      (None, 14, 14, 384)  0           block_8_expand_BN[0][0]          \n",
            "__________________________________________________________________________________________________\n",
            "block_8_depthwise (DepthwiseCon (None, 14, 14, 384)  3456        block_8_expand_relu[0][0]        \n",
            "__________________________________________________________________________________________________\n",
            "block_8_depthwise_BN (BatchNorm (None, 14, 14, 384)  1536        block_8_depthwise[0][0]          \n",
            "__________________________________________________________________________________________________\n",
            "block_8_depthwise_relu (ReLU)   (None, 14, 14, 384)  0           block_8_depthwise_BN[0][0]       \n",
            "__________________________________________________________________________________________________\n",
            "block_8_project (Conv2D)        (None, 14, 14, 64)   24576       block_8_depthwise_relu[0][0]     \n",
            "__________________________________________________________________________________________________\n",
            "block_8_project_BN (BatchNormal (None, 14, 14, 64)   256         block_8_project[0][0]            \n",
            "__________________________________________________________________________________________________\n",
            "block_8_add (Add)               (None, 14, 14, 64)   0           block_7_add[0][0]                \n",
            "                                                                 block_8_project_BN[0][0]         \n",
            "__________________________________________________________________________________________________\n",
            "block_9_expand (Conv2D)         (None, 14, 14, 384)  24576       block_8_add[0][0]                \n",
            "__________________________________________________________________________________________________\n",
            "block_9_expand_BN (BatchNormali (None, 14, 14, 384)  1536        block_9_expand[0][0]             \n",
            "__________________________________________________________________________________________________\n",
            "block_9_expand_relu (ReLU)      (None, 14, 14, 384)  0           block_9_expand_BN[0][0]          \n",
            "__________________________________________________________________________________________________\n",
            "block_9_depthwise (DepthwiseCon (None, 14, 14, 384)  3456        block_9_expand_relu[0][0]        \n",
            "__________________________________________________________________________________________________\n",
            "block_9_depthwise_BN (BatchNorm (None, 14, 14, 384)  1536        block_9_depthwise[0][0]          \n",
            "__________________________________________________________________________________________________\n",
            "block_9_depthwise_relu (ReLU)   (None, 14, 14, 384)  0           block_9_depthwise_BN[0][0]       \n",
            "__________________________________________________________________________________________________\n",
            "block_9_project (Conv2D)        (None, 14, 14, 64)   24576       block_9_depthwise_relu[0][0]     \n",
            "__________________________________________________________________________________________________\n",
            "block_9_project_BN (BatchNormal (None, 14, 14, 64)   256         block_9_project[0][0]            \n",
            "__________________________________________________________________________________________________\n",
            "block_9_add (Add)               (None, 14, 14, 64)   0           block_8_add[0][0]                \n",
            "                                                                 block_9_project_BN[0][0]         \n",
            "__________________________________________________________________________________________________\n",
            "block_10_expand (Conv2D)        (None, 14, 14, 384)  24576       block_9_add[0][0]                \n",
            "__________________________________________________________________________________________________\n",
            "block_10_expand_BN (BatchNormal (None, 14, 14, 384)  1536        block_10_expand[0][0]            \n",
            "__________________________________________________________________________________________________\n",
            "block_10_expand_relu (ReLU)     (None, 14, 14, 384)  0           block_10_expand_BN[0][0]         \n",
            "__________________________________________________________________________________________________\n",
            "block_10_depthwise (DepthwiseCo (None, 14, 14, 384)  3456        block_10_expand_relu[0][0]       \n",
            "__________________________________________________________________________________________________\n",
            "block_10_depthwise_BN (BatchNor (None, 14, 14, 384)  1536        block_10_depthwise[0][0]         \n",
            "__________________________________________________________________________________________________\n",
            "block_10_depthwise_relu (ReLU)  (None, 14, 14, 384)  0           block_10_depthwise_BN[0][0]      \n",
            "__________________________________________________________________________________________________\n",
            "block_10_project (Conv2D)       (None, 14, 14, 96)   36864       block_10_depthwise_relu[0][0]    \n",
            "__________________________________________________________________________________________________\n",
            "block_10_project_BN (BatchNorma (None, 14, 14, 96)   384         block_10_project[0][0]           \n",
            "__________________________________________________________________________________________________\n",
            "block_11_expand (Conv2D)        (None, 14, 14, 576)  55296       block_10_project_BN[0][0]        \n",
            "__________________________________________________________________________________________________\n",
            "block_11_expand_BN (BatchNormal (None, 14, 14, 576)  2304        block_11_expand[0][0]            \n",
            "__________________________________________________________________________________________________\n",
            "block_11_expand_relu (ReLU)     (None, 14, 14, 576)  0           block_11_expand_BN[0][0]         \n",
            "__________________________________________________________________________________________________\n",
            "block_11_depthwise (DepthwiseCo (None, 14, 14, 576)  5184        block_11_expand_relu[0][0]       \n",
            "__________________________________________________________________________________________________\n",
            "block_11_depthwise_BN (BatchNor (None, 14, 14, 576)  2304        block_11_depthwise[0][0]         \n",
            "__________________________________________________________________________________________________\n",
            "block_11_depthwise_relu (ReLU)  (None, 14, 14, 576)  0           block_11_depthwise_BN[0][0]      \n",
            "__________________________________________________________________________________________________\n",
            "block_11_project (Conv2D)       (None, 14, 14, 96)   55296       block_11_depthwise_relu[0][0]    \n",
            "__________________________________________________________________________________________________\n",
            "block_11_project_BN (BatchNorma (None, 14, 14, 96)   384         block_11_project[0][0]           \n",
            "__________________________________________________________________________________________________\n",
            "block_11_add (Add)              (None, 14, 14, 96)   0           block_10_project_BN[0][0]        \n",
            "                                                                 block_11_project_BN[0][0]        \n",
            "__________________________________________________________________________________________________\n",
            "block_12_expand (Conv2D)        (None, 14, 14, 576)  55296       block_11_add[0][0]               \n",
            "__________________________________________________________________________________________________\n",
            "block_12_expand_BN (BatchNormal (None, 14, 14, 576)  2304        block_12_expand[0][0]            \n",
            "__________________________________________________________________________________________________\n",
            "block_12_expand_relu (ReLU)     (None, 14, 14, 576)  0           block_12_expand_BN[0][0]         \n",
            "__________________________________________________________________________________________________\n",
            "block_12_depthwise (DepthwiseCo (None, 14, 14, 576)  5184        block_12_expand_relu[0][0]       \n",
            "__________________________________________________________________________________________________\n",
            "block_12_depthwise_BN (BatchNor (None, 14, 14, 576)  2304        block_12_depthwise[0][0]         \n",
            "__________________________________________________________________________________________________\n",
            "block_12_depthwise_relu (ReLU)  (None, 14, 14, 576)  0           block_12_depthwise_BN[0][0]      \n",
            "__________________________________________________________________________________________________\n",
            "block_12_project (Conv2D)       (None, 14, 14, 96)   55296       block_12_depthwise_relu[0][0]    \n",
            "__________________________________________________________________________________________________\n",
            "block_12_project_BN (BatchNorma (None, 14, 14, 96)   384         block_12_project[0][0]           \n",
            "__________________________________________________________________________________________________\n",
            "block_12_add (Add)              (None, 14, 14, 96)   0           block_11_add[0][0]               \n",
            "                                                                 block_12_project_BN[0][0]        \n",
            "__________________________________________________________________________________________________\n",
            "block_13_expand (Conv2D)        (None, 14, 14, 576)  55296       block_12_add[0][0]               \n",
            "__________________________________________________________________________________________________\n",
            "block_13_expand_BN (BatchNormal (None, 14, 14, 576)  2304        block_13_expand[0][0]            \n",
            "__________________________________________________________________________________________________\n",
            "block_13_expand_relu (ReLU)     (None, 14, 14, 576)  0           block_13_expand_BN[0][0]         \n",
            "__________________________________________________________________________________________________\n",
            "block_13_pad (ZeroPadding2D)    (None, 15, 15, 576)  0           block_13_expand_relu[0][0]       \n",
            "__________________________________________________________________________________________________\n",
            "block_13_depthwise (DepthwiseCo (None, 7, 7, 576)    5184        block_13_pad[0][0]               \n",
            "__________________________________________________________________________________________________\n",
            "block_13_depthwise_BN (BatchNor (None, 7, 7, 576)    2304        block_13_depthwise[0][0]         \n",
            "__________________________________________________________________________________________________\n",
            "block_13_depthwise_relu (ReLU)  (None, 7, 7, 576)    0           block_13_depthwise_BN[0][0]      \n",
            "__________________________________________________________________________________________________\n",
            "block_13_project (Conv2D)       (None, 7, 7, 160)    92160       block_13_depthwise_relu[0][0]    \n",
            "__________________________________________________________________________________________________\n",
            "block_13_project_BN (BatchNorma (None, 7, 7, 160)    640         block_13_project[0][0]           \n",
            "__________________________________________________________________________________________________\n",
            "block_14_expand (Conv2D)        (None, 7, 7, 960)    153600      block_13_project_BN[0][0]        \n",
            "__________________________________________________________________________________________________\n",
            "block_14_expand_BN (BatchNormal (None, 7, 7, 960)    3840        block_14_expand[0][0]            \n",
            "__________________________________________________________________________________________________\n",
            "block_14_expand_relu (ReLU)     (None, 7, 7, 960)    0           block_14_expand_BN[0][0]         \n",
            "__________________________________________________________________________________________________\n",
            "block_14_depthwise (DepthwiseCo (None, 7, 7, 960)    8640        block_14_expand_relu[0][0]       \n",
            "__________________________________________________________________________________________________\n",
            "block_14_depthwise_BN (BatchNor (None, 7, 7, 960)    3840        block_14_depthwise[0][0]         \n",
            "__________________________________________________________________________________________________\n",
            "block_14_depthwise_relu (ReLU)  (None, 7, 7, 960)    0           block_14_depthwise_BN[0][0]      \n",
            "__________________________________________________________________________________________________\n",
            "block_14_project (Conv2D)       (None, 7, 7, 160)    153600      block_14_depthwise_relu[0][0]    \n",
            "__________________________________________________________________________________________________\n",
            "block_14_project_BN (BatchNorma (None, 7, 7, 160)    640         block_14_project[0][0]           \n",
            "__________________________________________________________________________________________________\n",
            "block_14_add (Add)              (None, 7, 7, 160)    0           block_13_project_BN[0][0]        \n",
            "                                                                 block_14_project_BN[0][0]        \n",
            "__________________________________________________________________________________________________\n",
            "block_15_expand (Conv2D)        (None, 7, 7, 960)    153600      block_14_add[0][0]               \n",
            "__________________________________________________________________________________________________\n",
            "block_15_expand_BN (BatchNormal (None, 7, 7, 960)    3840        block_15_expand[0][0]            \n",
            "__________________________________________________________________________________________________\n",
            "block_15_expand_relu (ReLU)     (None, 7, 7, 960)    0           block_15_expand_BN[0][0]         \n",
            "__________________________________________________________________________________________________\n",
            "block_15_depthwise (DepthwiseCo (None, 7, 7, 960)    8640        block_15_expand_relu[0][0]       \n",
            "__________________________________________________________________________________________________\n",
            "block_15_depthwise_BN (BatchNor (None, 7, 7, 960)    3840        block_15_depthwise[0][0]         \n",
            "__________________________________________________________________________________________________\n",
            "block_15_depthwise_relu (ReLU)  (None, 7, 7, 960)    0           block_15_depthwise_BN[0][0]      \n",
            "__________________________________________________________________________________________________\n",
            "block_15_project (Conv2D)       (None, 7, 7, 160)    153600      block_15_depthwise_relu[0][0]    \n",
            "__________________________________________________________________________________________________\n",
            "block_15_project_BN (BatchNorma (None, 7, 7, 160)    640         block_15_project[0][0]           \n",
            "__________________________________________________________________________________________________\n",
            "block_15_add (Add)              (None, 7, 7, 160)    0           block_14_add[0][0]               \n",
            "                                                                 block_15_project_BN[0][0]        \n",
            "__________________________________________________________________________________________________\n",
            "block_16_expand (Conv2D)        (None, 7, 7, 960)    153600      block_15_add[0][0]               \n",
            "__________________________________________________________________________________________________\n",
            "block_16_expand_BN (BatchNormal (None, 7, 7, 960)    3840        block_16_expand[0][0]            \n",
            "__________________________________________________________________________________________________\n",
            "block_16_expand_relu (ReLU)     (None, 7, 7, 960)    0           block_16_expand_BN[0][0]         \n",
            "__________________________________________________________________________________________________\n",
            "block_16_depthwise (DepthwiseCo (None, 7, 7, 960)    8640        block_16_expand_relu[0][0]       \n",
            "__________________________________________________________________________________________________\n",
            "block_16_depthwise_BN (BatchNor (None, 7, 7, 960)    3840        block_16_depthwise[0][0]         \n",
            "__________________________________________________________________________________________________\n",
            "block_16_depthwise_relu (ReLU)  (None, 7, 7, 960)    0           block_16_depthwise_BN[0][0]      \n",
            "__________________________________________________________________________________________________\n",
            "block_16_project (Conv2D)       (None, 7, 7, 320)    307200      block_16_depthwise_relu[0][0]    \n",
            "__________________________________________________________________________________________________\n",
            "block_16_project_BN (BatchNorma (None, 7, 7, 320)    1280        block_16_project[0][0]           \n",
            "__________________________________________________________________________________________________\n",
            "Conv_1 (Conv2D)                 (None, 7, 7, 1280)   409600      block_16_project_BN[0][0]        \n",
            "__________________________________________________________________________________________________\n",
            "Conv_1_bn (BatchNormalization)  (None, 7, 7, 1280)   5120        Conv_1[0][0]                     \n",
            "__________________________________________________________________________________________________\n",
            "out_relu (ReLU)                 (None, 7, 7, 1280)   0           Conv_1_bn[0][0]                  \n",
            "__________________________________________________________________________________________________\n",
            "global_average_pooling2d (Globa (None, 1280)         0           out_relu[0][0]                   \n",
            "__________________________________________________________________________________________________\n",
            "predictions (Dense)             (None, 1000)         1281000     global_average_pooling2d[0][0]   \n",
            "==================================================================================================\n",
            "Total params: 3,538,984\n",
            "Trainable params: 3,504,872\n",
            "Non-trainable params: 34,112\n",
            "__________________________________________________________________________________________________\n"
          ],
          "name": "stdout"
        }
      ]
    },
    {
      "cell_type": "markdown",
      "metadata": {
        "id": "EuN_hWgZoPi5"
      },
      "source": [
        "Training"
      ]
    },
    {
      "cell_type": "code",
      "metadata": {
        "colab": {
          "base_uri": "https://localhost:8080/"
        },
        "id": "E5Rtc6GYoRFl",
        "outputId": "4916be77-e3dd-423b-dc29-15509f9d1e9d"
      },
      "source": [
        "face_mask_detection=model.fit(training,validation_data=validation,epochs=3)"
      ],
      "execution_count": 16,
      "outputs": [
        {
          "output_type": "stream",
          "text": [
            "Epoch 1/3\n"
          ],
          "name": "stdout"
        },
        {
          "output_type": "stream",
          "text": [
            "/usr/local/lib/python3.7/dist-packages/tensorflow/python/keras/backend.py:4930: UserWarning: \"`sparse_categorical_crossentropy` received `from_logits=True`, but the `output` argument was produced by a sigmoid or softmax activation and thus does not represent logits. Was this intended?\"\n",
            "  '\"`sparse_categorical_crossentropy` received `from_logits=True`, but '\n"
          ],
          "name": "stderr"
        },
        {
          "output_type": "stream",
          "text": [
            "5/5 [==============================] - 54s 5s/step - loss: 3.4138 - accuracy: 0.5735 - val_loss: 56.6018 - val_accuracy: 0.0000e+00\n",
            "Epoch 2/3\n",
            "5/5 [==============================] - 2s 362ms/step - loss: 0.0891 - accuracy: 1.0000 - val_loss: 51.0498 - val_accuracy: 0.0000e+00\n",
            "Epoch 3/3\n",
            "5/5 [==============================] - 2s 367ms/step - loss: 0.0123 - accuracy: 1.0000 - val_loss: 42.2012 - val_accuracy: 0.0000e+00\n"
          ],
          "name": "stdout"
        }
      ]
    },
    {
      "cell_type": "code",
      "metadata": {
        "colab": {
          "base_uri": "https://localhost:8080/"
        },
        "id": "NUwsNOJXpgLs",
        "outputId": "e480017a-933b-485c-f757-6cc8c6f499ad"
      },
      "source": [
        "img=tf.keras.preprocessing.image.load_img('new2.PNG.jpg',target_size=(height, width))\n",
        "image_array=tf.keras.preprocessing.image.img_to_array(img)\n",
        "image_array=tf.expand_dims(image_array,0)\n",
        "image_array.shape"
      ],
      "execution_count": 18,
      "outputs": [
        {
          "output_type": "execute_result",
          "data": {
            "text/plain": [
              "TensorShape([1, 224, 224, 3])"
            ]
          },
          "metadata": {
            "tags": []
          },
          "execution_count": 18
        }
      ]
    },
    {
      "cell_type": "code",
      "metadata": {
        "id": "EISCWuuiqrKZ"
      },
      "source": [
        "predictions=model.predict(image_array)\n",
        "score=tf.nn.softmax(predictions[0])"
      ],
      "execution_count": 19,
      "outputs": []
    },
    {
      "cell_type": "code",
      "metadata": {
        "colab": {
          "base_uri": "https://localhost:8080/"
        },
        "id": "GBliFvpyrCvF",
        "outputId": "3e1bc40f-42e6-42cc-c316-01e797d5a0fc"
      },
      "source": [
        "print(score)"
      ],
      "execution_count": 20,
      "outputs": [
        {
          "output_type": "stream",
          "text": [
            "tf.Tensor(\n",
            "[0.0009987  0.0009987  0.0009987  0.0009987  0.0009987  0.0009987\n",
            " 0.0009987  0.00099904 0.0009987  0.0009987  0.0009987  0.0009987\n",
            " 0.0009987  0.00099877 0.00099871 0.00099872 0.0009987  0.0009987\n",
            " 0.00099874 0.0009987  0.0009987  0.0009987  0.00099878 0.00099871\n",
            " 0.0009987  0.0009987  0.0009987  0.0009987  0.0009987  0.0009987\n",
            " 0.0009987  0.0009987  0.0009987  0.0009987  0.0009987  0.00099888\n",
            " 0.00099973 0.00099894 0.0009987  0.0009987  0.0009987  0.0009987\n",
            " 0.0009988  0.00099872 0.0009987  0.0009987  0.0009987  0.0009987\n",
            " 0.0009987  0.0009987  0.0009987  0.0009987  0.00099871 0.0009987\n",
            " 0.0009987  0.0009987  0.0009987  0.0009987  0.0009987  0.0009987\n",
            " 0.0009987  0.0009987  0.0009987  0.00099985 0.0009987  0.0009987\n",
            " 0.0009987  0.0009987  0.0009987  0.0009987  0.0009987  0.0009987\n",
            " 0.0009987  0.0009987  0.0009987  0.0009987  0.0009987  0.0009987\n",
            " 0.0009987  0.0009987  0.00099931 0.0009987  0.0009987  0.00099871\n",
            " 0.0009987  0.0009987  0.0009987  0.00099876 0.0009987  0.00099873\n",
            " 0.0009987  0.0009987  0.0009987  0.0009987  0.0009987  0.0009987\n",
            " 0.0009987  0.0009987  0.0009987  0.0009987  0.0009987  0.0009987\n",
            " 0.0009987  0.0009987  0.0009987  0.0009987  0.0009987  0.0009987\n",
            " 0.0009987  0.0009987  0.0009987  0.0009987  0.0009987  0.00099992\n",
            " 0.0009987  0.00099871 0.0009987  0.0009987  0.0009987  0.00099872\n",
            " 0.0009987  0.0009987  0.0009987  0.0009987  0.0009987  0.00099883\n",
            " 0.0009987  0.0009987  0.00099879 0.0009987  0.0009987  0.0009987\n",
            " 0.0009987  0.0009987  0.0009987  0.0009987  0.0009987  0.0009987\n",
            " 0.0009987  0.0009987  0.0009987  0.0009987  0.0009987  0.0009987\n",
            " 0.0009987  0.0009987  0.0009987  0.0009987  0.0009987  0.0009987\n",
            " 0.0009987  0.00099897 0.0009987  0.0009987  0.0009987  0.0009987\n",
            " 0.0009987  0.0009987  0.0009987  0.0009987  0.00099889 0.0009987\n",
            " 0.0009987  0.0009987  0.00099871 0.00100149 0.0009987  0.0009987\n",
            " 0.0009987  0.0009987  0.0009987  0.00099872 0.0009987  0.0009987\n",
            " 0.0009987  0.0009987  0.0009987  0.0009987  0.0009987  0.0009987\n",
            " 0.0009987  0.0009987  0.00101113 0.00099876 0.0009987  0.0009987\n",
            " 0.00099871 0.0009987  0.0009987  0.0009987  0.0009987  0.00099871\n",
            " 0.00099985 0.0009987  0.0009987  0.00099871 0.0009987  0.0009987\n",
            " 0.0009987  0.0009987  0.0009987  0.0009987  0.00106204 0.0009987\n",
            " 0.0009987  0.0009987  0.0009987  0.0009987  0.0010085  0.0009987\n",
            " 0.0009987  0.0009987  0.0009987  0.0009987  0.0009987  0.0009987\n",
            " 0.0009987  0.0009987  0.0009987  0.0009987  0.0009987  0.0009987\n",
            " 0.0009987  0.00099882 0.0009987  0.0009987  0.0009987  0.00099894\n",
            " 0.00099871 0.0009987  0.0009987  0.0009987  0.0009987  0.0009987\n",
            " 0.0009987  0.0009987  0.0009987  0.00099902 0.0009987  0.0009987\n",
            " 0.0009987  0.0009987  0.0009987  0.0009987  0.0009987  0.0009987\n",
            " 0.0009987  0.0009987  0.0009987  0.0009987  0.0009987  0.0009987\n",
            " 0.0009987  0.0009987  0.00099871 0.0009987  0.0009987  0.0009987\n",
            " 0.0009987  0.00099871 0.0009987  0.0009987  0.0009987  0.00099871\n",
            " 0.0009987  0.0009987  0.00099871 0.0009987  0.0009987  0.0009987\n",
            " 0.0009987  0.0009987  0.00099872 0.0009987  0.0009987  0.0009987\n",
            " 0.0009987  0.0009987  0.0009987  0.0009987  0.00099871 0.0009987\n",
            " 0.0009987  0.0009987  0.00099871 0.0009987  0.0009987  0.0009987\n",
            " 0.0009987  0.0009987  0.0009987  0.0009987  0.0009987  0.0009987\n",
            " 0.0009987  0.0009987  0.0009987  0.0009987  0.00099873 0.0009987\n",
            " 0.0009987  0.0009987  0.0009987  0.0009987  0.0009987  0.0009987\n",
            " 0.0009987  0.0009987  0.0009987  0.0009987  0.0009987  0.00099871\n",
            " 0.0009987  0.0009987  0.0009987  0.0009987  0.00099871 0.0009987\n",
            " 0.0009987  0.00099871 0.0009987  0.0009987  0.0009987  0.0009987\n",
            " 0.0009987  0.0009987  0.0009987  0.0009987  0.0009987  0.0009987\n",
            " 0.00099884 0.00099871 0.00099892 0.00099871 0.0009987  0.00099871\n",
            " 0.0009987  0.0009987  0.00099871 0.0009987  0.0009987  0.0009987\n",
            " 0.0009987  0.0009987  0.0009987  0.0009987  0.0009987  0.0009987\n",
            " 0.0009987  0.0009987  0.0009987  0.0009987  0.0009987  0.0009987\n",
            " 0.00099871 0.0009987  0.00099872 0.0009987  0.0009987  0.0009987\n",
            " 0.0009987  0.00099875 0.0009987  0.00099884 0.0009987  0.00099873\n",
            " 0.0009987  0.00099876 0.0009987  0.0009987  0.0009987  0.0009987\n",
            " 0.0009987  0.0009987  0.00099871 0.0009987  0.0009987  0.0009987\n",
            " 0.0009987  0.0009987  0.0009987  0.0009987  0.00099893 0.0009987\n",
            " 0.0009987  0.0009987  0.0009987  0.0009987  0.0009987  0.0009987\n",
            " 0.0009987  0.0009987  0.0009987  0.0009987  0.0009987  0.0009987\n",
            " 0.0009987  0.0009987  0.0009987  0.00099879 0.0009987  0.0009987\n",
            " 0.0009987  0.0009987  0.0009987  0.0009987  0.0009987  0.0009987\n",
            " 0.0009987  0.00099871 0.0009987  0.00099973 0.0009987  0.0009987\n",
            " 0.0009987  0.0009987  0.00099886 0.00099878 0.0009987  0.00099871\n",
            " 0.0009987  0.0009987  0.0009987  0.0009987  0.0009987  0.0009987\n",
            " 0.00099871 0.00099871 0.0009987  0.0009987  0.00099871 0.0009987\n",
            " 0.0009987  0.0009987  0.0009987  0.0009987  0.0009987  0.00099873\n",
            " 0.0009987  0.0009987  0.0009987  0.0009987  0.0009987  0.0009987\n",
            " 0.0009987  0.0009987  0.0009987  0.00099897 0.0009987  0.0009987\n",
            " 0.00099871 0.0009987  0.00099887 0.0009987  0.0009987  0.0009987\n",
            " 0.0009987  0.0009987  0.0009987  0.00099963 0.0009987  0.0009987\n",
            " 0.00099882 0.00101183 0.0009987  0.0009987  0.0009987  0.0009987\n",
            " 0.0009987  0.0009987  0.0009987  0.00104275 0.0009987  0.0009987\n",
            " 0.0009987  0.0009987  0.00099954 0.00099871 0.00099875 0.0009987\n",
            " 0.0009987  0.0009987  0.0009987  0.0009987  0.0009987  0.0009987\n",
            " 0.0009987  0.0009987  0.0009987  0.0009987  0.0009987  0.00099871\n",
            " 0.0009987  0.0009987  0.00099888 0.0009987  0.0009987  0.0009987\n",
            " 0.0009987  0.0009987  0.0009987  0.0009987  0.00099992 0.0009987\n",
            " 0.0009987  0.0009987  0.0009987  0.0009987  0.0009987  0.0009987\n",
            " 0.0009987  0.0009987  0.0009987  0.0009987  0.0009987  0.00099872\n",
            " 0.0009987  0.00099882 0.00099871 0.0009987  0.0009987  0.0009987\n",
            " 0.00099947 0.0009987  0.00099871 0.0009987  0.0009987  0.0009987\n",
            " 0.0009987  0.0009987  0.0009987  0.0009987  0.0009987  0.0009987\n",
            " 0.00100285 0.0009987  0.0009987  0.0009987  0.00099872 0.00099939\n",
            " 0.0009987  0.0009987  0.0009987  0.00099873 0.00099871 0.0009987\n",
            " 0.0009987  0.0009987  0.0009987  0.0009987  0.00099978 0.0009987\n",
            " 0.00099871 0.0009987  0.0009987  0.00099871 0.0009987  0.0009987\n",
            " 0.0009987  0.0009987  0.0009987  0.00099892 0.0009987  0.0009987\n",
            " 0.0009987  0.0009987  0.0009987  0.0009987  0.0009987  0.0009987\n",
            " 0.0009987  0.0009987  0.0009987  0.0009987  0.0009987  0.0009987\n",
            " 0.0009987  0.0009987  0.0009987  0.0009987  0.0009987  0.0009987\n",
            " 0.0009987  0.00099871 0.0009987  0.0009987  0.0009987  0.0009987\n",
            " 0.0009987  0.00102767 0.0009987  0.0009987  0.0009987  0.00099924\n",
            " 0.0009987  0.0009987  0.00099871 0.0009987  0.0009987  0.00099871\n",
            " 0.00099871 0.0009987  0.0009987  0.0009987  0.0009987  0.0009987\n",
            " 0.00103112 0.0009987  0.0009987  0.00099871 0.0009987  0.00099871\n",
            " 0.0009987  0.0009987  0.0009987  0.0009987  0.0009987  0.0009987\n",
            " 0.0009987  0.0009987  0.0009987  0.0009987  0.0009987  0.0009987\n",
            " 0.0009987  0.0009987  0.0009987  0.0009987  0.00099871 0.0009987\n",
            " 0.0009987  0.0009987  0.00099879 0.00099871 0.0009987  0.0009987\n",
            " 0.00099927 0.0009987  0.00099871 0.0009987  0.0009987  0.0010068\n",
            " 0.0009987  0.0009987  0.0009987  0.0009987  0.00099886 0.00099944\n",
            " 0.0009987  0.0009987  0.0009987  0.0009987  0.0009987  0.0009987\n",
            " 0.0009987  0.0009987  0.0009987  0.0009987  0.0009987  0.0009987\n",
            " 0.0009987  0.0009987  0.0009987  0.0009987  0.0009987  0.0009987\n",
            " 0.0009987  0.0009987  0.0009987  0.0009987  0.0009987  0.0009987\n",
            " 0.00099871 0.0009987  0.0009987  0.00099877 0.0009987  0.0009987\n",
            " 0.00099871 0.0009987  0.0009987  0.00099873 0.0009987  0.0009987\n",
            " 0.0009987  0.00099871 0.0009987  0.0009987  0.0009987  0.0009987\n",
            " 0.0009987  0.0009987  0.0009987  0.0009987  0.0009987  0.0009987\n",
            " 0.00100355 0.0009987  0.0009987  0.0009987  0.00099871 0.0009987\n",
            " 0.0009987  0.0009987  0.0009987  0.0009987  0.0009987  0.0009987\n",
            " 0.00099871 0.0009987  0.0009987  0.0009987  0.0009987  0.0009987\n",
            " 0.0009987  0.0009987  0.0009987  0.0009987  0.0009987  0.0009987\n",
            " 0.0009987  0.0009987  0.00099887 0.0009987  0.0009987  0.0009987\n",
            " 0.0009987  0.00099871 0.0009987  0.0009987  0.0009987  0.00099871\n",
            " 0.0009987  0.0009987  0.0009987  0.0009987  0.0009987  0.0009987\n",
            " 0.0009987  0.0009987  0.00099871 0.0009987  0.00099871 0.0009987\n",
            " 0.0009987  0.0009987  0.0009987  0.00099879 0.0009987  0.00099871\n",
            " 0.0009987  0.00099871 0.00099874 0.0009987  0.0009987  0.0009987\n",
            " 0.0009987  0.0009987  0.0009987  0.0009987  0.0009987  0.0009987\n",
            " 0.0009987  0.0009987  0.0009987  0.0009987  0.00099889 0.0009987\n",
            " 0.0009987  0.0009987  0.00100664 0.0009987  0.00099871 0.0009987\n",
            " 0.00099871 0.0009987  0.0009987  0.0009987  0.0009987  0.0009987\n",
            " 0.0009987  0.0009987  0.0009987  0.0009987  0.00100199 0.0009987\n",
            " 0.0009987  0.00099871 0.0009987  0.0009987  0.00100223 0.00099911\n",
            " 0.00099875 0.0009987  0.0009987  0.0009987  0.00099871 0.0009987\n",
            " 0.0009987  0.0009987  0.0009987  0.0009987  0.0009987  0.0009987\n",
            " 0.0009987  0.0009987  0.0009987  0.0009987  0.0009987  0.0009987\n",
            " 0.0009987  0.00099871 0.0009987  0.00099909 0.0009987  0.0009987\n",
            " 0.0009987  0.0009987  0.0009987  0.0009987  0.0009987  0.0009987\n",
            " 0.00099872 0.00099871 0.00099876 0.0009987  0.0009987  0.0009987\n",
            " 0.00099875 0.00099871 0.0009987  0.0009987  0.0009987  0.0009987\n",
            " 0.0009987  0.0009987  0.0009987  0.00099872 0.00100585 0.0009987\n",
            " 0.00100018 0.0009987  0.0009987  0.0009987  0.0009987  0.0009987\n",
            " 0.0009987  0.0009987  0.0009987  0.0009987  0.0009987  0.00099875\n",
            " 0.0009987  0.0009987  0.0009987  0.00101527 0.0009987  0.0009987\n",
            " 0.0009987  0.0009987  0.0009987  0.0009987  0.0009987  0.0009987\n",
            " 0.0009987  0.0009987  0.0009987  0.0009987  0.0009987  0.0009987\n",
            " 0.0009987  0.0009987  0.0009987  0.0009987  0.0009987  0.0009987\n",
            " 0.00099871 0.0009987  0.0009987  0.00197202 0.00100616 0.0009987\n",
            " 0.00099877 0.0009987  0.0009987  0.0009987  0.0009987  0.0009987\n",
            " 0.0009987  0.0009987  0.0009987  0.0009987  0.0009987  0.0009987\n",
            " 0.0009987  0.00099871 0.0009987  0.0010232  0.0009987  0.0009987\n",
            " 0.0009987  0.0009987  0.00099886 0.00100545 0.0009987  0.0009987\n",
            " 0.0009987  0.0009987  0.0009987  0.0009987  0.0009987  0.0009987\n",
            " 0.0009987  0.0009987  0.0009987  0.0009987  0.0009987  0.0009987\n",
            " 0.0009987  0.0009987  0.0009987  0.0009987  0.0009987  0.0009987\n",
            " 0.0009987  0.0009987  0.0009987  0.0009987  0.0009987  0.00099871\n",
            " 0.0009987  0.0009987  0.0009987  0.0009987  0.00099871 0.0009987\n",
            " 0.0009987  0.0009987  0.0009987  0.0009987  0.0009987  0.0009987\n",
            " 0.0009987  0.0009987  0.0009987  0.0009987  0.0009987  0.0009987\n",
            " 0.0009987  0.0009987  0.0009987  0.0009987  0.0009987  0.0009987\n",
            " 0.0009987  0.0009987  0.0009987  0.0009987  0.0009987  0.0009987\n",
            " 0.0009987  0.00099871 0.0009987  0.0009987  0.0009987  0.0009987\n",
            " 0.0009987  0.0009987  0.0009987  0.0009987  0.0009987  0.00099871\n",
            " 0.0009987  0.0009987  0.0009987  0.0009987  0.0009987  0.0009987\n",
            " 0.0009987  0.0009987  0.0009987  0.0009987  0.0009987  0.0009987\n",
            " 0.0009987  0.0009987  0.0009987  0.00099871 0.0009987  0.0009987\n",
            " 0.0009987  0.0009987  0.0009987  0.0009987  0.0009987  0.0009987\n",
            " 0.0009987  0.0009987  0.00099871 0.00099872], shape=(1000,), dtype=float32)\n"
          ],
          "name": "stdout"
        }
      ]
    },
    {
      "cell_type": "code",
      "metadata": {
        "colab": {
          "base_uri": "https://localhost:8080/"
        },
        "id": "d9f8ZHA_r8dX",
        "outputId": "3cd15a81-0bd5-4ef0-f04e-31ac4a70d909"
      },
      "source": [
        "model.save('dummy.model',save_format=\"h5\")"
      ],
      "execution_count": 21,
      "outputs": [
        {
          "output_type": "stream",
          "text": [
            "/usr/local/lib/python3.7/dist-packages/tensorflow/python/keras/utils/generic_utils.py:497: CustomMaskWarning: Custom mask layers require a config and must override get_config. When loading, the custom mask layer must be passed to the custom_objects argument.\n",
            "  category=CustomMaskWarning)\n"
          ],
          "name": "stderr"
        }
      ]
    },
    {
      "cell_type": "code",
      "metadata": {
        "colab": {
          "base_uri": "https://localhost:8080/",
          "height": 35
        },
        "id": "zklokVAUsUMv",
        "outputId": "b768f68f-a79f-4cef-e4ed-ad147728d6f3"
      },
      "source": [
        "import tensorflow as tf\n",
        "tf.version.VERSION"
      ],
      "execution_count": 22,
      "outputs": [
        {
          "output_type": "execute_result",
          "data": {
            "application/vnd.google.colaboratory.intrinsic+json": {
              "type": "string"
            },
            "text/plain": [
              "'2.5.0'"
            ]
          },
          "metadata": {
            "tags": []
          },
          "execution_count": 22
        }
      ]
    },
    {
      "cell_type": "code",
      "metadata": {
        "id": "t6akCnU6sloF"
      },
      "source": [
        "from tensorflow.keras.models import load_model\n",
        "detector = load_model('dummy.model')"
      ],
      "execution_count": 23,
      "outputs": []
    },
    {
      "cell_type": "code",
      "metadata": {
        "colab": {
          "base_uri": "https://localhost:8080/"
        },
        "id": "fWQuqMves0UA",
        "outputId": "6e9dbd42-3f51-40a2-b1f1-888807271b4d"
      },
      "source": [
        "!git clone http://github.com/opencv/opencv.git\n",
        "!mkdir Video"
      ],
      "execution_count": 24,
      "outputs": [
        {
          "output_type": "stream",
          "text": [
            "Cloning into 'opencv'...\n",
            "warning: redirecting to https://github.com/opencv/opencv.git/\n",
            "remote: Enumerating objects: 293557, done.\u001b[K\n",
            "remote: Counting objects: 100% (403/403), done.\u001b[K\n",
            "remote: Compressing objects: 100% (254/254), done.\u001b[K\n",
            "remote: Total 293557 (delta 185), reused 292 (delta 131), pack-reused 293154\u001b[K\n",
            "Receiving objects: 100% (293557/293557), 484.49 MiB | 25.68 MiB/s, done.\n",
            "Resolving deltas: 100% (203965/203965), done.\n",
            "Checking out files: 100% (6829/6829), done.\n"
          ],
          "name": "stdout"
        }
      ]
    },
    {
      "cell_type": "code",
      "metadata": {
        "colab": {
          "base_uri": "https://localhost:8080/",
          "height": 145
        },
        "id": "QrqFGEchuAc2",
        "outputId": "184c0d02-ba51-499c-ba0c-80070359af8e"
      },
      "source": [
        "!pip install ffmpeg-python\n",
        "\n",
        "from IPython.display import HTML, Javascript, display\n",
        "from google.colab.output import eval_js\n",
        "from base64 import b64decode\n",
        "import numpy as np\n",
        "import io\n",
        "import ffmpeg\n",
        "video_file_test='/content/Video/osy_test.mp4'\n",
        "VIDEO_HTML=\"\"\"\n",
        "\n",
        "\n",
        "\n",
        "def start_webcam():\n",
        "  js=Javascript('''\n",
        "    async function startWebcam() {\n",
        "      const div=document.createElement('div');\n",
        "      const video=document.createElement('video');\n",
        "      video.style.display='block';\n",
        "      const stream=await navigator.mediaDevices.getUserMedia({video: true});\n",
        "      document.body.appendChild(div);\n",
        "      div.appendChild(video);\n",
        "      video.scrObject=stream;\n",
        "      await video.play();\n",
        "      google.colab.output.setIframeHeight(document.documentElement.srollHeight, true);\n",
        "      \n",
        "      return;\n",
        "          }\n",
        "          ''')\n",
        "  \n",
        "  display(js)\n",
        "  data=eval__js('startWebcam()')\n",
        "\n",
        "\n",
        "start_webcam()\n",
        "\n",
        "def get_video():\n",
        "  display(HTML(VIDEO_HTML))\n",
        "  data=eval__js(\"data\")\n",
        "  binary=b64decode(data.split(',')[1])\n",
        "\n",
        "  return binary"
      ],
      "execution_count": 1,
      "outputs": [
        {
          "output_type": "error",
          "ename": "SyntaxError",
          "evalue": "ignored",
          "traceback": [
            "\u001b[0;36m  File \u001b[0;32m\"<ipython-input-1-9caf1b0e4e4a>\"\u001b[0;36m, line \u001b[0;32m42\u001b[0m\n\u001b[0;31m    return binary\u001b[0m\n\u001b[0m                 \n^\u001b[0m\n\u001b[0;31mSyntaxError\u001b[0m\u001b[0;31m:\u001b[0m EOF while scanning triple-quoted string literal\n"
          ]
        }
      ]
    },
    {
      "cell_type": "code",
      "metadata": {
        "id": "jFqaPOotsYz_"
      },
      "source": [
        "videofile=get_video()\n",
        "with open(video_file_test, 'wb') as f:\n",
        "  f,write(videofile)"
      ],
      "execution_count": null,
      "outputs": []
    },
    {
      "cell_type": "code",
      "metadata": {
        "id": "jNNVSw1e4b8v"
      },
      "source": [
        "import tensorflow as tf\n",
        "import cv2\n",
        "import numpy\n",
        "\n",
        "cap=cv2.VideoCapture(video_file_test)\n",
        "classifier=cv2.CascadeClassifier(cv2.data.haarcascades='haarcascade_frontalface_default_xml')"
      ],
      "execution_count": null,
      "outputs": []
    },
    {
      "cell_type": "code",
      "metadata": {
        "id": "VFPXKjwJ5IZs"
      },
      "source": [
        "from google.colab.patches import cv2_imshow\n",
        "while True:\n",
        "  (success,frame)= cap.read()\n",
        "  new_image=cv2.resize(frame, (frame.shape[1]//1,frame.shape[0]//1))\n",
        "  face=classifier.detectMultiScale(new_image)\n",
        "  for x,y,w,h in face:\n",
        "    try:\n",
        "      face_img=new_image[y:x+h, x:x+w]\n",
        "      resized=cv2.resize(face_img,(224,224))\n",
        "      image_array=tf.keras.preprocessing.image.img_to_array(resized)\n",
        "      image_array=tf.expand_dims(image_array,0)\n",
        "      predictions= detector.predict(image_array)\n",
        "      score=tf.nn.softmax(predictions[0])\n",
        "      label=numpy.argmax(score)\n",
        "    except Exception as 0:\n",
        "      print(\"bad frame\")\n",
        "\n",
        "    if label==0:\n",
        "      cv2.rectangle(new_image,(x,y),(x+w,y+h),(0,255,0),2)  \n"
      ],
      "execution_count": null,
      "outputs": []
    },
    {
      "cell_type": "code",
      "metadata": {
        "cellView": "form",
        "id": "Eq10uEbw0E4l"
      },
      "source": [
        "#@title Licensed under the Apache License, Version 2.0 (the \"License\");\n",
        "# you may not use this file except in compliance with the License.\n",
        "# You may obtain a copy of the License at\n",
        "#\n",
        "# https://www.apache.org/licenses/LICENSE-2.0\n",
        "#\n",
        "# Unless required by applicable law or agreed to in writing, software\n",
        "# distributed under the License is distributed on an \"AS IS\" BASIS,\n",
        "# WITHOUT WARRANTIES OR CONDITIONS OF ANY KIND, either express or implied.\n",
        "# See the License for the specific language governing permissions and\n",
        "# limitations under the License."
      ],
      "execution_count": null,
      "outputs": []
    },
    {
      "cell_type": "markdown",
      "metadata": {
        "id": "YHI3vyhv5p85"
      },
      "source": [
        "## **Introduction to Colab and Python**"
      ]
    },
    {
      "cell_type": "markdown",
      "metadata": {
        "id": "OVi775ZJ2bsy"
      },
      "source": [
        "<table class=\"tfo-notebook-buttons\" align=\"left\">\n",
        "  <td>\n",
        "    <a target=\"_blank\" href=\"https://colab.research.google.com/github/tensorflow/examples/blob/master/courses/udacity_intro_to_tensorflow_for_deep_learning/l01c01_introduction_to_colab_and_python.ipynb\"><img src=\"https://www.tensorflow.org/images/colab_logo_32px.png\" />Run in Google Colab</a>\n",
        "  </td>\n",
        "  <td>\n",
        "    <a target=\"_blank\" href=\"https://github.com/tensorflow/examples/blob/master/courses/udacity_intro_to_tensorflow_for_deep_learning/l01c01_introduction_to_colab_and_python.ipynb\"><img src=\"https://www.tensorflow.org/images/GitHub-Mark-32px.png\" />View source on GitHub</a>\n",
        "  </td>\n",
        "</table>"
      ]
    },
    {
      "cell_type": "markdown",
      "metadata": {
        "id": "F8YVA_634OFk"
      },
      "source": [
        "Welcome to this Colab where you will get a quick introduction to the Python programming language and the environment used for the course's exercises: Colab.\n",
        "\n",
        "Colab is a Python development environment that runs in the browser using Google Cloud.\n",
        "\n",
        "For example, to print \"Hello World\", just hover the mouse over [ ] and press the play button to the upper left. Or press shift-enter to execute."
      ]
    },
    {
      "cell_type": "code",
      "metadata": {
        "id": "X9uIpOS2zx7k"
      },
      "source": [
        "print(\"Hello World\")"
      ],
      "execution_count": null,
      "outputs": []
    },
    {
      "cell_type": "markdown",
      "metadata": {
        "id": "wwJGmDrQ0EoB"
      },
      "source": [
        "## Functions, Conditionals, and Iteration\n",
        "Let's create a Python function, and call it from a loop."
      ]
    },
    {
      "cell_type": "code",
      "metadata": {
        "id": "pRllo2HLfXiu"
      },
      "source": [
        "def HelloWorldXY(x, y):\n",
        "  if (x < 10):\n",
        "    print(\"Hello World, x was < 10\")\n",
        "  elif (x < 20):\n",
        "    print(\"Hello World, x was >= 10 but < 20\")\n",
        "  else:\n",
        "    print(\"Hello World, x was >= 20\")\n",
        "  return x + y\n",
        "\n",
        "for i in range(8, 25, 5):  # i=8, 13, 18, 23 (start, stop, step)\n",
        "  print(\"--- Now running with i: {}\".format(i))\n",
        "  r = HelloWorldXY(i,i)\n",
        "  print(\"Result from HelloWorld: {}\".format(r))"
      ],
      "execution_count": null,
      "outputs": []
    },
    {
      "cell_type": "code",
      "metadata": {
        "id": "lHNmDCh0JpVP"
      },
      "source": [
        "print(HelloWorldXY(1,2))"
      ],
      "execution_count": null,
      "outputs": []
    },
    {
      "cell_type": "markdown",
      "metadata": {
        "id": "kiZG7uhm8qCF"
      },
      "source": [
        "Easy, right?\n",
        "\n",
        "If you want a loop starting at 0 to 2 (exclusive) you could do any of the following"
      ]
    },
    {
      "cell_type": "code",
      "metadata": {
        "id": "m8YQN1H41L-Y"
      },
      "source": [
        "print(\"Iterate over the items. `range(2)` is like a list [0,1].\")\n",
        "for i in range(2):\n",
        "  print(i)\n",
        "\n",
        "print(\"Iterate over an actual list.\")\n",
        "for i in [0,1]:\n",
        "  print(i)\n",
        "\n",
        "print(\"While works\")\n",
        "i = 0\n",
        "while i < 2:\n",
        "  print(i)\n",
        "  i += 1"
      ],
      "execution_count": null,
      "outputs": []
    },
    {
      "cell_type": "code",
      "metadata": {
        "id": "vIgmFZq4zszl"
      },
      "source": [
        "print(\"Python supports standard key words like continue and break\")\n",
        "while True:\n",
        "  print(\"Entered while\")\n",
        "  break"
      ],
      "execution_count": null,
      "outputs": []
    },
    {
      "cell_type": "markdown",
      "metadata": {
        "id": "5QyOUhFw1OUX"
      },
      "source": [
        "## Numpy and lists\n",
        "Python has lists built into the language.\n",
        "However, we will use a library called numpy for this.\n",
        "Numpy gives you lots of support functions that are useful when doing Machine Learning.\n",
        "\n",
        "Here, you will also see an import statement. This statement makes the entire numpy package available and we can access those symbols using the abbreviated 'np' syntax."
      ]
    },
    {
      "cell_type": "code",
      "metadata": {
        "id": "4Dxk4q-jzEy4"
      },
      "source": [
        "import numpy as np  # Make numpy available using np.\n",
        "\n",
        "# Create a numpy array, and append an element\n",
        "a = np.array([\"Hello\", \"World\"])\n",
        "a = np.append(a, \"!\")\n",
        "print(\"Current array: {}\".format(a))\n",
        "print(\"Printing each element\")\n",
        "for i in a:\n",
        "  print(i)\n",
        "\n",
        "print(\"\\nPrinting each element and their index\")\n",
        "for i,e in enumerate(a):\n",
        "  print(\"Index: {}, was: {}\".format(i, e))"
      ],
      "execution_count": null,
      "outputs": []
    },
    {
      "cell_type": "code",
      "metadata": {
        "id": "RTa8_9G3LV03"
      },
      "source": [
        "print(\"\\nShowing some basic math on arrays\")\n",
        "b = np.array([0,1,4,3,2])\n",
        "print(\"Max: {}\".format(np.max(b)))\n",
        "print(\"Average: {}\".format(np.average(b)))\n",
        "print(\"Max index: {}\".format(np.argmax(b)))"
      ],
      "execution_count": null,
      "outputs": []
    },
    {
      "cell_type": "code",
      "metadata": {
        "id": "9YaGj5n4LW7P"
      },
      "source": [
        "print(\"\\nYou can print the type of anything\")\n",
        "print(\"Type of b: {}, type of b[0]: {}\".format(type(b), type(b[0])))"
      ],
      "execution_count": null,
      "outputs": []
    },
    {
      "cell_type": "code",
      "metadata": {
        "id": "V6ilVhi9LXn_"
      },
      "source": [
        "print(\"\\nUse numpy to create a [3,3] dimension array with random number\")\n",
        "c = np.random.rand(3, 3)\n",
        "print(c)"
      ],
      "execution_count": null,
      "outputs": []
    },
    {
      "cell_type": "code",
      "metadata": {
        "id": "W_Q-DkFCLYGA"
      },
      "source": [
        "print(\"\\nYou can print the dimensions of arrays\")\n",
        "print(\"Shape of a: {}\".format(a.shape))\n",
        "print(\"Shape of b: {}\".format(b.shape))\n",
        "print(\"Shape of c: {}\".format(c.shape))\n",
        "print(\"...Observe, Python uses both [0,1,2] and (0,1,2) to specify lists\")"
      ],
      "execution_count": null,
      "outputs": []
    },
    {
      "cell_type": "markdown",
      "metadata": {
        "id": "c-Jk4dG91dvD"
      },
      "source": [
        "## Colab Specifics"
      ]
    },
    {
      "cell_type": "markdown",
      "metadata": {
        "id": "G0cGd8sHEmKi"
      },
      "source": [
        "Colab is a virtual machine you can access directly. To run commands at the VM's terminal, prefix the line with an exclamation point (!).\n"
      ]
    },
    {
      "cell_type": "code",
      "metadata": {
        "id": "cLkfhyzq0W2y"
      },
      "source": [
        "print(\"\\nDoing $ls on filesystem\")\n",
        "!ls -l\n",
        "!pwd"
      ],
      "execution_count": null,
      "outputs": []
    },
    {
      "cell_type": "code",
      "metadata": {
        "id": "gR2WTN1cOZ1n"
      },
      "source": [
        "print(\"Install numpy\")  # Just for test, numpy is actually preinstalled in all Colab instances\n",
        "!pip install numpy"
      ],
      "execution_count": null,
      "outputs": []
    },
    {
      "cell_type": "markdown",
      "metadata": {
        "id": "QuWRpQdatAIU"
      },
      "source": [
        "**Exercise**\n",
        "\n",
        "Create a code cell underneath this text cell and add code to:\n",
        "\n",
        "\n",
        "*   List the path of the current directory (pwd)\n",
        "* Go to / (cd) and list the content (ls -l)"
      ]
    },
    {
      "cell_type": "code",
      "metadata": {
        "id": "xU-cJbMCR61P"
      },
      "source": [
        "!pwd\n",
        "!cd /\n",
        "!ls -l\n",
        "print(\"Hello\")"
      ],
      "execution_count": null,
      "outputs": []
    },
    {
      "cell_type": "markdown",
      "metadata": {
        "id": "7b5jv0ouFREV"
      },
      "source": [
        "All usage of Colab in this course is completely free or charge. Even GPU usage is provided free of charge for some hours of usage every day.\n",
        "\n",
        "**Using GPUs**\n",
        "* Many of the exercises in the course executes more quickly by using GPU runtime: Runtime | Change runtime type | Hardware accelerator | GPU\n",
        "\n",
        "**Some final words on Colab**\n",
        "*   You execute each cell in order, you can edit & re-execute cells if you want\n",
        "*   Sometimes, this could have unintended consequences. For example, if you add a dimension to an array and execute the cell multiple times, then the cells after may not work. If you encounter problem reset your environment:\n",
        "  *   Runtime -> Restart runtime... Resets your Python shell\n",
        "  *   Runtime -> Restart all runtimes... Will reset the Colab image, and get you back to a 100% clean environment\n",
        "* You can also clear the output in the Colab by doing: Edit -> Clear all outputs\n",
        "* Colabs in this course are loaded from GitHub. Save to your Google Drive if you want a copy with your code/output: File -> Save a copy in Drive...\n",
        "\n",
        "**Learn More**\n",
        "*   Check out [this](https://www.youtube.com/watch?v=inN8seMm7UI&list=PLQY2H8rRoyvwLbzbnKJ59NkZvQAW9wLbx&index=3) episode of #CodingTensorFlow, and don't forget to subscribe to the YouTube channel ;)\n"
      ]
    }
  ]
}